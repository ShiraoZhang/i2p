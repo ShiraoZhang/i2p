{
 "cells": [
  {
   "cell_type": "markdown",
   "metadata": {},
   "source": [
    "<div style=\"float:left\">\n",
    "    <h1 style=\"width:450px\">Practical 5: Pandas</h1>\n",
    "    <h2 style=\"width:450px\">Easing into EDA</h2>\n",
    "</div>\n",
    "<div style=\"float:right\"><img width=\"100\" src=\"https://github.com/jreades/i2p/raw/master/img/casa_logo.jpg\" /></div>"
   ]
  },
  {
   "cell_type": "markdown",
   "metadata": {},
   "source": [
    "<div style=\"border: dotted 1px rgb(156,121,26); padding: 10px; margin: 5px; background-color: rgb(255,236,184)\"><i>Note</i>: You should download this notebook from GitHub and then save it to your own copy of the repository. I'd suggest adding it (<tt>git add Practical-...</tt>) right away and then committing (<tt>git commit -m \"Some message\"</tt>). Do this again at the end of the class and you'll have a record of everything you did, then you can <tt>git push</tt> it to GitHub.</div>"
   ]
  },
  {
   "cell_type": "markdown",
   "metadata": {},
   "source": [
    "## You've Already Invented Pandas!\n",
    "\n",
    "You might be feeling a little intimidated by `pandas`, but here's the thing: we came close to writing something like pandas from scratch. That's because pandas takes a column-view of data in the same way that our Dictionary-of-Lists did, it's just that it's got a lot more features than our 'simple' tool does. That's why the documentation is so much more forbidding and why pandas is so much more powerful.\n",
    "\n",
    "But at its heart, a pandas `DataFrame` (`df` for short) is a collection of `Data Series` objects (i.e. columns) with an index. Each Series is like one of our column-lists from the last notebook. And the `df` is like the dictionary-of-lists that held the data together. You've seen this before, so you already _know_ what's going on... or at least you now have an _analogy_ that you can use to make sense of pandas:\n",
    "```python\n",
    "myDataFrame = {\n",
    "    '<column name 1>': <Series 1>,\n",
    "    '<column name 2>': <Series 2>,\n",
    "    '<column name 3>': <Series 3>\n",
    "}\n",
    "``` "
   ]
  },
  {
   "cell_type": "markdown",
   "metadata": {},
   "source": [
    "## The Importance of Data Exploration\n",
    "\n",
    "After a few weeks getting to grips with Python, we're now going to start working with some real data. One of the first things that we do when working with any new data set is to familiarise ourselves with it. There are a _huge_ number of ways to do this, but there are no shortcuts to:\n",
    "\n",
    "1. Reading about the data (how it was collected, what the sample size was, etc.)\n",
    "2. Reviewing any accompanying metadata (data about the data, column specs, etc.)\n",
    "3. Looking at the data itself at the row- and column-levels\n",
    "4. Producing descriptive statistics\n",
    "5. Visualising the data using plots\n",
    "\n",
    "You should use _all_ of these together to really understand where the data came from, how it was handled, and whether there are gaps or other problems. If you're wondering which comes first, the concept of _start with a chart_ is always good... though we've obviously not _quite_ gotten there yet! This week we want you to get a handle on pandas itself, so although we will do some plotting of charts, we'll focus on 3-4 with a tiny bit of 5. There will be much more on plotting charts next week, and you should be looking into 1 and 2 yourself based on what's been written both on the [Inside Airbnb web site](http://insideairbnb.com/about.html) and in the [suggested readings](https://github.com/jreades/i2p/blob/master/bib/Bibliography.md).\n",
    "\n",
    "So although they don't need to be done now, you probably want to add both those links to your reading list!"
   ]
  },
  {
   "cell_type": "markdown",
   "metadata": {},
   "source": [
    "## Task 1: Reading and Writing Data\n",
    "\n",
    "We're going to start with reading a remote file and saving a local copy. You probably want to download the [Live Coding session](https://www.dropbox.com/sh/lt8zyuaukvuh4u5/AAB03BAPv5ygziJwKxMKDfD0a?dl=0) for reference here."
   ]
  },
  {
   "cell_type": "markdown",
   "metadata": {},
   "source": [
    "### Task 1.1: Read Remote Data\n",
    "\n",
    "You will need to do several things here to read the remote, compressed CSV file specified by `url` into a data frame called `df`. Setting `low_memory=False` ensures that pandas will try to load the entire data set _before_ guessing the data format! Obviously, with very large files this is probably a bad idea and it's possible to force a particular column type while readng in the data as well. For larger data sets there are platforms like [Dask](https://dask.org/) (see, eg, [this](https://towardsdatascience.com/why-and-how-to-use-dask-with-big-data-746e34dac7c3)), and beyond that are [other options](https://towardsdatascience.com/scaling-pandas-comparing-dask-ray-modin-vaex-and-rapids-c74c85a4e59c)."
   ]
  },
  {
   "cell_type": "markdown",
   "metadata": {},
   "source": [
    "<div style=\"border: dotted 1px rgb(156,121,26); padding: 10px; margin: 5px; background-color: rgb(255,236,184)\"><i>Note</i>: As in other practicals, I've deliberately removed some lines/bits of code and replaced them with <tt>??</tt>.</div>"
   ]
  },
  {
   "cell_type": "code",
   "execution_count": 4,
   "metadata": {},
   "outputs": [
    {
     "name": "stdout",
     "output_type": "stream",
     "text": [
      "Data frame is 74,188 x 74\n"
     ]
    }
   ],
   "source": [
    "# Set download URL\n",
    "url = 'https://github.com/jreades/i2p/raw/master/data/src/2020-08-24-listings.csv.gz'\n",
    "\n",
    "# your code here\n",
    "import pandas as pd\n",
    "df = pd.read_csv(url, compression='gzip', low_memory=False)\n",
    "\n",
    "print(f\"Data frame is {df.shape[0]:,} x {df.shape[1]}\")"
   ]
  },
  {
   "cell_type": "markdown",
   "metadata": {},
   "source": [
    "You should get: \"Data frame is 74,188 x 74\"."
   ]
  },
  {
   "cell_type": "markdown",
   "metadata": {},
   "source": [
    "### Task 1.2: Describing the Data Frame\n",
    "\n",
    "Let's get a general sense of the data by printing out the _information_ about the data frame:"
   ]
  },
  {
   "cell_type": "code",
   "execution_count": 5,
   "metadata": {},
   "outputs": [
    {
     "name": "stdout",
     "output_type": "stream",
     "text": [
      "<class 'pandas.core.frame.DataFrame'>\n",
      "RangeIndex: 74188 entries, 0 to 74187\n",
      "Data columns (total 74 columns):\n",
      " #   Column                                        Non-Null Count  Dtype  \n",
      "---  ------                                        --------------  -----  \n",
      " 0   id                                            74186 non-null  float64\n",
      " 1   listing_url                                   74187 non-null  object \n",
      " 2   scrape_id                                     74187 non-null  object \n",
      " 3   last_scraped                                  74187 non-null  object \n",
      " 4   name                                          74167 non-null  object \n",
      " 5   description                                   71329 non-null  object \n",
      " 6   neighborhood_overview                         47208 non-null  object \n",
      " 7   picture_url                                   74188 non-null  object \n",
      " 8   host_id                                       74188 non-null  float64\n",
      " 9   host_url                                      74188 non-null  object \n",
      " 10  host_name                                     74179 non-null  object \n",
      " 11  host_since                                    74179 non-null  object \n",
      " 12  host_location                                 74006 non-null  object \n",
      " 13  host_about                                    42494 non-null  object \n",
      " 14  host_response_time                            37781 non-null  object \n",
      " 15  host_response_rate                            37779 non-null  object \n",
      " 16  host_acceptance_rate                          51597 non-null  object \n",
      " 17  host_is_superhost                             74177 non-null  object \n",
      " 18  host_thumbnail_url                            74177 non-null  object \n",
      " 19  host_picture_url                              74177 non-null  object \n",
      " 20  host_neighbourhood                            56560 non-null  object \n",
      " 21  host_listings_count                           74175 non-null  float64\n",
      " 22  host_total_listings_count                     74177 non-null  object \n",
      " 23  host_verifications                            74186 non-null  object \n",
      " 24  host_has_profile_pic                          74177 non-null  object \n",
      " 25  host_identity_verified                        74177 non-null  object \n",
      " 26  neighbourhood                                 47207 non-null  object \n",
      " 27  neighbourhood_cleansed                        74186 non-null  object \n",
      " 28  neighbourhood_group_cleansed                  2 non-null      float64\n",
      " 29  latitude                                      74186 non-null  float64\n",
      " 30  longitude                                     74186 non-null  float64\n",
      " 31  property_type                                 74186 non-null  object \n",
      " 32  room_type                                     74186 non-null  object \n",
      " 33  accommodates                                  74186 non-null  float64\n",
      " 34  bathrooms                                     2 non-null      float64\n",
      " 35  bathrooms_text                                74029 non-null  object \n",
      " 36  bedrooms                                      69594 non-null  object \n",
      " 37  beds                                          73199 non-null  float64\n",
      " 38  amenities                                     74186 non-null  object \n",
      " 39  price                                         74186 non-null  object \n",
      " 40  minimum_nights                                74186 non-null  float64\n",
      " 41  maximum_nights                                74186 non-null  object \n",
      " 42  minimum_minimum_nights                        74186 non-null  float64\n",
      " 43  maximum_minimum_nights                        74186 non-null  float64\n",
      " 44  minimum_maximum_nights                        74186 non-null  float64\n",
      " 45  maximum_maximum_nights                        74186 non-null  object \n",
      " 46  minimum_nights_avg_ntm                        74186 non-null  object \n",
      " 47  maximum_nights_avg_ntm                        74186 non-null  float64\n",
      " 48  calendar_updated                              2 non-null      float64\n",
      " 49  has_availability                              74186 non-null  object \n",
      " 50  availability_30                               74186 non-null  float64\n",
      " 51  availability_60                               74186 non-null  float64\n",
      " 52  availability_90                               74186 non-null  float64\n",
      " 53  availability_365                              74186 non-null  float64\n",
      " 54  calendar_last_scraped                         74184 non-null  object \n",
      " 55  number_of_reviews                             74186 non-null  object \n",
      " 56  number_of_reviews_ltm                         74186 non-null  float64\n",
      " 57  number_of_reviews_l30d                        74186 non-null  float64\n",
      " 58  first_review                                  53903 non-null  object \n",
      " 59  last_review                                   53903 non-null  object \n",
      " 60  review_scores_rating                          52285 non-null  float64\n",
      " 61  review_scores_accuracy                        52233 non-null  float64\n",
      " 62  review_scores_cleanliness                     52242 non-null  float64\n",
      " 63  review_scores_checkin                         52194 non-null  float64\n",
      " 64  review_scores_communication                   52234 non-null  float64\n",
      " 65  review_scores_location                        52197 non-null  float64\n",
      " 66  review_scores_value                           52196 non-null  float64\n",
      " 67  license                                       0 non-null      float64\n",
      " 68  instant_bookable                              74184 non-null  object \n",
      " 69  calculated_host_listings_count                74184 non-null  float64\n",
      " 70  calculated_host_listings_count_entire_homes   74184 non-null  float64\n",
      " 71  calculated_host_listings_count_private_rooms  74184 non-null  float64\n",
      " 72  calculated_host_listings_count_shared_rooms   74184 non-null  float64\n",
      " 73  reviews_per_month                             53901 non-null  float64\n",
      "dtypes: float64(34), object(40)\n",
      "memory usage: 41.9+ MB\n"
     ]
    }
   ],
   "source": [
    "df.info()"
   ]
  },
  {
   "cell_type": "markdown",
   "metadata": {},
   "source": [
    "You should get that the data frame uses 41.9MB of memory and has 34 float64 columns, and 40 object columns.\n",
    "\n",
    "Finally, it's useful to have a list of the columns without all of the details shown above. Print the columns _as a list_:"
   ]
  },
  {
   "cell_type": "code",
   "execution_count": 6,
   "metadata": {},
   "outputs": [
    {
     "name": "stdout",
     "output_type": "stream",
     "text": [
      "['id', 'listing_url', 'scrape_id', 'last_scraped', 'name', 'description', 'neighborhood_overview', 'picture_url', 'host_id', 'host_url', 'host_name', 'host_since', 'host_location', 'host_about', 'host_response_time', 'host_response_rate', 'host_acceptance_rate', 'host_is_superhost', 'host_thumbnail_url', 'host_picture_url', 'host_neighbourhood', 'host_listings_count', 'host_total_listings_count', 'host_verifications', 'host_has_profile_pic', 'host_identity_verified', 'neighbourhood', 'neighbourhood_cleansed', 'neighbourhood_group_cleansed', 'latitude', 'longitude', 'property_type', 'room_type', 'accommodates', 'bathrooms', 'bathrooms_text', 'bedrooms', 'beds', 'amenities', 'price', 'minimum_nights', 'maximum_nights', 'minimum_minimum_nights', 'maximum_minimum_nights', 'minimum_maximum_nights', 'maximum_maximum_nights', 'minimum_nights_avg_ntm', 'maximum_nights_avg_ntm', 'calendar_updated', 'has_availability', 'availability_30', 'availability_60', 'availability_90', 'availability_365', 'calendar_last_scraped', 'number_of_reviews', 'number_of_reviews_ltm', 'number_of_reviews_l30d', 'first_review', 'last_review', 'review_scores_rating', 'review_scores_accuracy', 'review_scores_cleanliness', 'review_scores_checkin', 'review_scores_communication', 'review_scores_location', 'review_scores_value', 'license', 'instant_bookable', 'calculated_host_listings_count', 'calculated_host_listings_count_entire_homes', 'calculated_host_listings_count_private_rooms', 'calculated_host_listings_count_shared_rooms', 'reviews_per_month']\n"
     ]
    }
   ],
   "source": [
    "print(list(df.columns.values))"
   ]
  },
  {
   "cell_type": "markdown",
   "metadata": {},
   "source": [
    "If you get `Index(['id', 'listing_url',...], dtype='object')` then you have printed the column _index_, not the columns as a list."
   ]
  },
  {
   "cell_type": "markdown",
   "metadata": {},
   "source": [
    "### Task 1.3: Saving the File Locally\n",
    "\n",
    "Now save the file somewhere local so that you don't have to keep downloading 40MB of compressed data every time you want to start the practical. We'll be using this data for the rest of term, so you might as well save yourself some time and bandwidth! We'll talk more about data processing pipelines over the course of the term, but I'd suggest putting this data set into a `data/raw` folder because then you can have directories like `data/clean` and `data/analytical` as you move through the process of cleaning and prepping your data for analysis."
   ]
  },
  {
   "cell_type": "code",
   "execution_count": 7,
   "metadata": {},
   "outputs": [
    {
     "name": "stdout",
     "output_type": "stream",
     "text": [
      "Writing to: 2020-08-24-listings.csv.gz\n"
     ]
    }
   ],
   "source": [
    "import os\n",
    "path = os.path.join('data','raw') # A default location to save raw data\n",
    "fn   = url.split('/')[-1]         # What does this do?\n",
    "print(f\"Writing to: {fn}\")"
   ]
  },
  {
   "cell_type": "code",
   "execution_count": 8,
   "metadata": {},
   "outputs": [
    {
     "name": "stdout",
     "output_type": "stream",
     "text": [
      "Done.\n"
     ]
    }
   ],
   "source": [
    "if not os.path.exists(path):\n",
    "    print(f\"Creating {path} under {os.getcwd()}\")\n",
    "    os.makedirs(path)\n",
    "    \n",
    "df.to_csv(os.path.join(path,fn), index=False)\n",
    "print(\"Done.\")"
   ]
  },
  {
   "cell_type": "markdown",
   "metadata": {},
   "source": [
    "### Task 1.4: Resetting & Reloading the DataFrame\n",
    "\n",
    "Let's re-load the data now just to make sure we're working with the local data set, and also restrict the number of rows and columns that we load. We got `cols` by copying the output of `list(df.columns.values)` and then removing the fields that we _weren't_ interested in."
   ]
  },
  {
   "cell_type": "code",
   "execution_count": 9,
   "metadata": {},
   "outputs": [],
   "source": [
    "cols = ['id', 'listing_url', 'last_scraped', 'name', 'description', 'host_id', 'host_name', 'host_since', \n",
    "        'host_location', 'host_about', 'host_response_rate', 'host_acceptance_rate', 'host_is_superhost', \n",
    "        'host_listings_count', 'host_total_listings_count', 'host_verifications', 'latitude', 'longitude', \n",
    "        'property_type', 'room_type', 'accommodates', 'bathrooms', 'bathrooms_text', 'bedrooms', 'beds', \n",
    "        'amenities', 'price', 'minimum_nights', 'maximum_nights', 'availability_365', 'number_of_reviews', \n",
    "        'first_review', 'last_review', 'review_scores_rating', 'review_scores_cleanliness', \n",
    "        'review_scores_checkin', 'review_scores_communication', 'review_scores_location', 'license', \n",
    "        'instant_bookable', 'calculated_host_listings_count', 'reviews_per_month']"
   ]
  },
  {
   "cell_type": "markdown",
   "metadata": {},
   "source": [
    "We use `del(df)` to ensure that we aren't accidentally using the 'old' data frame: after deleting it from Python's memory to free up space, we will read in a new data frame. See if you can set pandas to:\n",
    "- Use the columns specified in `cols`\n",
    "- Load only the first 10,000 rows using `nrows`\n",
    "- Don't forget to set `low_memory=False`"
   ]
  },
  {
   "cell_type": "code",
   "execution_count": 10,
   "metadata": {},
   "outputs": [
    {
     "name": "stdout",
     "output_type": "stream",
     "text": [
      "Data frame is 10,000 x 42\n"
     ]
    }
   ],
   "source": [
    "del(df)\n",
    "df = pd.read_csv(os.path.join(path,fn), low_memory=False, usecols=cols, nrows=10000)\n",
    "print(f\"Data frame is {df.shape[0]:,} x {df.shape[1]}\")"
   ]
  },
  {
   "cell_type": "markdown",
   "metadata": {},
   "source": [
    "You should get `Data frame is 10,000 x 42`."
   ]
  },
  {
   "cell_type": "code",
   "execution_count": 11,
   "metadata": {},
   "outputs": [
    {
     "data": {
      "text/html": [
       "<div>\n",
       "<style scoped>\n",
       "    .dataframe tbody tr th:only-of-type {\n",
       "        vertical-align: middle;\n",
       "    }\n",
       "\n",
       "    .dataframe tbody tr th {\n",
       "        vertical-align: top;\n",
       "    }\n",
       "\n",
       "    .dataframe thead th {\n",
       "        text-align: right;\n",
       "    }\n",
       "</style>\n",
       "<table border=\"1\" class=\"dataframe\">\n",
       "  <thead>\n",
       "    <tr style=\"text-align: right;\">\n",
       "      <th></th>\n",
       "      <th>id</th>\n",
       "      <th>listing_url</th>\n",
       "      <th>last_scraped</th>\n",
       "      <th>name</th>\n",
       "      <th>description</th>\n",
       "      <th>host_id</th>\n",
       "      <th>host_name</th>\n",
       "      <th>host_since</th>\n",
       "      <th>host_location</th>\n",
       "      <th>host_about</th>\n",
       "      <th>...</th>\n",
       "      <th>last_review</th>\n",
       "      <th>review_scores_rating</th>\n",
       "      <th>review_scores_cleanliness</th>\n",
       "      <th>review_scores_checkin</th>\n",
       "      <th>review_scores_communication</th>\n",
       "      <th>review_scores_location</th>\n",
       "      <th>license</th>\n",
       "      <th>instant_bookable</th>\n",
       "      <th>calculated_host_listings_count</th>\n",
       "      <th>reviews_per_month</th>\n",
       "    </tr>\n",
       "  </thead>\n",
       "  <tbody>\n",
       "    <tr>\n",
       "      <th>6252</th>\n",
       "      <td>5611338.0</td>\n",
       "      <td>https://www.airbnb.com/rooms/5611338</td>\n",
       "      <td>2020-08-27</td>\n",
       "      <td>Lovely Flat close to Tower Bridge!</td>\n",
       "      <td>´The flat is very spacious (1 bedroom, living ...</td>\n",
       "      <td>29021331.0</td>\n",
       "      <td>Sandra</td>\n",
       "      <td>2015-03-09</td>\n",
       "      <td>Madrid, Community of Madrid, Spain</td>\n",
       "      <td>Hi! \\r\\n\\r\\nWe are Sandra and Pablo, a couple ...</td>\n",
       "      <td>...</td>\n",
       "      <td>2017-11-05</td>\n",
       "      <td>96.0</td>\n",
       "      <td>10.0</td>\n",
       "      <td>10.0</td>\n",
       "      <td>10.0</td>\n",
       "      <td>10.0</td>\n",
       "      <td>NaN</td>\n",
       "      <td>f</td>\n",
       "      <td>1.0</td>\n",
       "      <td>0.54</td>\n",
       "    </tr>\n",
       "    <tr>\n",
       "      <th>4684</th>\n",
       "      <td>4176912.0</td>\n",
       "      <td>https://www.airbnb.com/rooms/4176912</td>\n",
       "      <td>2020-08-26</td>\n",
       "      <td>B&amp;B Smart Charming 2bed 6 Sleeper</td>\n",
       "      <td>&lt;b&gt;The space&lt;/b&gt;&lt;br /&gt;PLEASE KINDLY ASK FOR AV...</td>\n",
       "      <td>1517803.0</td>\n",
       "      <td>Hilmi</td>\n",
       "      <td>2011-12-19</td>\n",
       "      <td>London, United Kingdom</td>\n",
       "      <td>I am a young professional with an engineer bac...</td>\n",
       "      <td>...</td>\n",
       "      <td>2015-04-02</td>\n",
       "      <td>73.0</td>\n",
       "      <td>9.0</td>\n",
       "      <td>9.0</td>\n",
       "      <td>9.0</td>\n",
       "      <td>8.0</td>\n",
       "      <td>NaN</td>\n",
       "      <td>f</td>\n",
       "      <td>24.0</td>\n",
       "      <td>0.04</td>\n",
       "    </tr>\n",
       "    <tr>\n",
       "      <th>1731</th>\n",
       "      <td>1041523.0</td>\n",
       "      <td>https://www.airbnb.com/rooms/1041523</td>\n",
       "      <td>2020-08-26</td>\n",
       "      <td>Beautifully Spacious Property in Islington</td>\n",
       "      <td>This beautiful 1 bedroom property sits in the ...</td>\n",
       "      <td>5733781.0</td>\n",
       "      <td>Tomas</td>\n",
       "      <td>2013-04-02</td>\n",
       "      <td>London</td>\n",
       "      <td>I'm from London and like to travel</td>\n",
       "      <td>...</td>\n",
       "      <td>2020-01-21</td>\n",
       "      <td>95.0</td>\n",
       "      <td>10.0</td>\n",
       "      <td>10.0</td>\n",
       "      <td>9.0</td>\n",
       "      <td>10.0</td>\n",
       "      <td>NaN</td>\n",
       "      <td>f</td>\n",
       "      <td>1.0</td>\n",
       "      <td>0.73</td>\n",
       "    </tr>\n",
       "    <tr>\n",
       "      <th>4742</th>\n",
       "      <td>4225126.0</td>\n",
       "      <td>https://www.airbnb.com/rooms/4225126</td>\n",
       "      <td>2020-08-26</td>\n",
       "      <td>Lovely room on Shoreditch Park</td>\n",
       "      <td>A nice room in East London on Regents Canal an...</td>\n",
       "      <td>13740059.0</td>\n",
       "      <td>Eric</td>\n",
       "      <td>2014-03-31</td>\n",
       "      <td>New York, New York, United States</td>\n",
       "      <td>World traveler extraordinaire</td>\n",
       "      <td>...</td>\n",
       "      <td>NaN</td>\n",
       "      <td>NaN</td>\n",
       "      <td>NaN</td>\n",
       "      <td>NaN</td>\n",
       "      <td>NaN</td>\n",
       "      <td>NaN</td>\n",
       "      <td>NaN</td>\n",
       "      <td>f</td>\n",
       "      <td>1.0</td>\n",
       "      <td>NaN</td>\n",
       "    </tr>\n",
       "    <tr>\n",
       "      <th>4521</th>\n",
       "      <td>4012401.0</td>\n",
       "      <td>https://www.airbnb.com/rooms/4012401</td>\n",
       "      <td>2020-08-26</td>\n",
       "      <td>BIG Double ROOM +LIVINGROOM + GARDEN @ CAMDEN ...</td>\n",
       "      <td>Spacious  double room in camden town with your...</td>\n",
       "      <td>20298323.0</td>\n",
       "      <td>James</td>\n",
       "      <td>2014-08-20</td>\n",
       "      <td>LONDON</td>\n",
       "      <td>French physiotherapist living in the heart of ...</td>\n",
       "      <td>...</td>\n",
       "      <td>2020-07-20</td>\n",
       "      <td>90.0</td>\n",
       "      <td>9.0</td>\n",
       "      <td>10.0</td>\n",
       "      <td>10.0</td>\n",
       "      <td>10.0</td>\n",
       "      <td>NaN</td>\n",
       "      <td>t</td>\n",
       "      <td>2.0</td>\n",
       "      <td>1.39</td>\n",
       "    </tr>\n",
       "    <tr>\n",
       "      <th>6340</th>\n",
       "      <td>5711398.0</td>\n",
       "      <td>https://www.airbnb.com/rooms/5711398</td>\n",
       "      <td>2020-08-26</td>\n",
       "      <td>Master Bedroom in a Converted Pub</td>\n",
       "      <td>We live an a beautifully converted pub, right ...</td>\n",
       "      <td>11021500.0</td>\n",
       "      <td>Toby</td>\n",
       "      <td>2014-01-04</td>\n",
       "      <td>London, England</td>\n",
       "      <td>I'm lively, easygoing and a little bit geeky. ...</td>\n",
       "      <td>...</td>\n",
       "      <td>NaN</td>\n",
       "      <td>NaN</td>\n",
       "      <td>NaN</td>\n",
       "      <td>NaN</td>\n",
       "      <td>NaN</td>\n",
       "      <td>NaN</td>\n",
       "      <td>NaN</td>\n",
       "      <td>f</td>\n",
       "      <td>1.0</td>\n",
       "      <td>NaN</td>\n",
       "    </tr>\n",
       "  </tbody>\n",
       "</table>\n",
       "<p>6 rows × 42 columns</p>\n",
       "</div>"
      ],
      "text/plain": [
       "             id                           listing_url last_scraped  \\\n",
       "6252  5611338.0  https://www.airbnb.com/rooms/5611338   2020-08-27   \n",
       "4684  4176912.0  https://www.airbnb.com/rooms/4176912   2020-08-26   \n",
       "1731  1041523.0  https://www.airbnb.com/rooms/1041523   2020-08-26   \n",
       "4742  4225126.0  https://www.airbnb.com/rooms/4225126   2020-08-26   \n",
       "4521  4012401.0  https://www.airbnb.com/rooms/4012401   2020-08-26   \n",
       "6340  5711398.0  https://www.airbnb.com/rooms/5711398   2020-08-26   \n",
       "\n",
       "                                                   name  \\\n",
       "6252                 Lovely Flat close to Tower Bridge!   \n",
       "4684                  B&B Smart Charming 2bed 6 Sleeper   \n",
       "1731         Beautifully Spacious Property in Islington   \n",
       "4742                     Lovely room on Shoreditch Park   \n",
       "4521  BIG Double ROOM +LIVINGROOM + GARDEN @ CAMDEN ...   \n",
       "6340                  Master Bedroom in a Converted Pub   \n",
       "\n",
       "                                            description     host_id host_name  \\\n",
       "6252  ´The flat is very spacious (1 bedroom, living ...  29021331.0    Sandra   \n",
       "4684  <b>The space</b><br />PLEASE KINDLY ASK FOR AV...   1517803.0     Hilmi   \n",
       "1731  This beautiful 1 bedroom property sits in the ...   5733781.0     Tomas   \n",
       "4742  A nice room in East London on Regents Canal an...  13740059.0      Eric   \n",
       "4521  Spacious  double room in camden town with your...  20298323.0     James   \n",
       "6340  We live an a beautifully converted pub, right ...  11021500.0      Toby   \n",
       "\n",
       "      host_since                       host_location  \\\n",
       "6252  2015-03-09  Madrid, Community of Madrid, Spain   \n",
       "4684  2011-12-19              London, United Kingdom   \n",
       "1731  2013-04-02                              London   \n",
       "4742  2014-03-31   New York, New York, United States   \n",
       "4521  2014-08-20                              LONDON   \n",
       "6340  2014-01-04                     London, England   \n",
       "\n",
       "                                             host_about  ... last_review  \\\n",
       "6252  Hi! \\r\\n\\r\\nWe are Sandra and Pablo, a couple ...  ...  2017-11-05   \n",
       "4684  I am a young professional with an engineer bac...  ...  2015-04-02   \n",
       "1731                 I'm from London and like to travel  ...  2020-01-21   \n",
       "4742                     World traveler extraordinaire   ...         NaN   \n",
       "4521  French physiotherapist living in the heart of ...  ...  2020-07-20   \n",
       "6340  I'm lively, easygoing and a little bit geeky. ...  ...         NaN   \n",
       "\n",
       "     review_scores_rating review_scores_cleanliness  review_scores_checkin  \\\n",
       "6252                 96.0                      10.0                   10.0   \n",
       "4684                 73.0                       9.0                    9.0   \n",
       "1731                 95.0                      10.0                   10.0   \n",
       "4742                  NaN                       NaN                    NaN   \n",
       "4521                 90.0                       9.0                   10.0   \n",
       "6340                  NaN                       NaN                    NaN   \n",
       "\n",
       "     review_scores_communication review_scores_location  license  \\\n",
       "6252                        10.0                   10.0      NaN   \n",
       "4684                         9.0                    8.0      NaN   \n",
       "1731                         9.0                   10.0      NaN   \n",
       "4742                         NaN                    NaN      NaN   \n",
       "4521                        10.0                   10.0      NaN   \n",
       "6340                         NaN                    NaN      NaN   \n",
       "\n",
       "      instant_bookable calculated_host_listings_count reviews_per_month  \n",
       "6252                 f                            1.0              0.54  \n",
       "4684                 f                           24.0              0.04  \n",
       "1731                 f                            1.0              0.73  \n",
       "4742                 f                            1.0               NaN  \n",
       "4521                 t                            2.0              1.39  \n",
       "6340                 f                            1.0               NaN  \n",
       "\n",
       "[6 rows x 42 columns]"
      ]
     },
     "execution_count": 11,
     "metadata": {},
     "output_type": "execute_result"
    }
   ],
   "source": [
    "df.sample(6, random_state=42)"
   ]
  },
  {
   "cell_type": "markdown",
   "metadata": {},
   "source": [
    "Because we have set the `random_state`, you _should_ get the same sample every time you run this code (just change random state to some other value and re-run _that_ to see this in action). If you look very closely, you'll see that pandas isn't showing you the _full_ range of columns since there are 42! If you'd like to only look at specific columns then you can specify them after the sample method call using what looks like a nested list: `[[<column names as strings>]]`."
   ]
  },
  {
   "cell_type": "code",
   "execution_count": 12,
   "metadata": {},
   "outputs": [
    {
     "data": {
      "text/html": [
       "<div>\n",
       "<style scoped>\n",
       "    .dataframe tbody tr th:only-of-type {\n",
       "        vertical-align: middle;\n",
       "    }\n",
       "\n",
       "    .dataframe tbody tr th {\n",
       "        vertical-align: top;\n",
       "    }\n",
       "\n",
       "    .dataframe thead th {\n",
       "        text-align: right;\n",
       "    }\n",
       "</style>\n",
       "<table border=\"1\" class=\"dataframe\">\n",
       "  <thead>\n",
       "    <tr style=\"text-align: right;\">\n",
       "      <th></th>\n",
       "      <th>id</th>\n",
       "      <th>price</th>\n",
       "      <th>room_type</th>\n",
       "      <th>host_location</th>\n",
       "      <th>last_review</th>\n",
       "      <th>review_scores_rating</th>\n",
       "      <th>license</th>\n",
       "    </tr>\n",
       "  </thead>\n",
       "  <tbody>\n",
       "    <tr>\n",
       "      <th>6252</th>\n",
       "      <td>5611338.0</td>\n",
       "      <td>$95.00</td>\n",
       "      <td>Entire home/apt</td>\n",
       "      <td>Madrid, Community of Madrid, Spain</td>\n",
       "      <td>2017-11-05</td>\n",
       "      <td>96.0</td>\n",
       "      <td>NaN</td>\n",
       "    </tr>\n",
       "    <tr>\n",
       "      <th>4684</th>\n",
       "      <td>4176912.0</td>\n",
       "      <td>$220.00</td>\n",
       "      <td>Entire home/apt</td>\n",
       "      <td>London, United Kingdom</td>\n",
       "      <td>2015-04-02</td>\n",
       "      <td>73.0</td>\n",
       "      <td>NaN</td>\n",
       "    </tr>\n",
       "    <tr>\n",
       "      <th>1731</th>\n",
       "      <td>1041523.0</td>\n",
       "      <td>$85.00</td>\n",
       "      <td>Entire home/apt</td>\n",
       "      <td>London</td>\n",
       "      <td>2020-01-21</td>\n",
       "      <td>95.0</td>\n",
       "      <td>NaN</td>\n",
       "    </tr>\n",
       "    <tr>\n",
       "      <th>4742</th>\n",
       "      <td>4225126.0</td>\n",
       "      <td>$95.00</td>\n",
       "      <td>Private room</td>\n",
       "      <td>New York, New York, United States</td>\n",
       "      <td>NaN</td>\n",
       "      <td>NaN</td>\n",
       "      <td>NaN</td>\n",
       "    </tr>\n",
       "    <tr>\n",
       "      <th>4521</th>\n",
       "      <td>4012401.0</td>\n",
       "      <td>$30.00</td>\n",
       "      <td>Private room</td>\n",
       "      <td>LONDON</td>\n",
       "      <td>2020-07-20</td>\n",
       "      <td>90.0</td>\n",
       "      <td>NaN</td>\n",
       "    </tr>\n",
       "    <tr>\n",
       "      <th>6340</th>\n",
       "      <td>5711398.0</td>\n",
       "      <td>$60.00</td>\n",
       "      <td>Private room</td>\n",
       "      <td>London, England</td>\n",
       "      <td>NaN</td>\n",
       "      <td>NaN</td>\n",
       "      <td>NaN</td>\n",
       "    </tr>\n",
       "  </tbody>\n",
       "</table>\n",
       "</div>"
      ],
      "text/plain": [
       "             id    price        room_type                       host_location  \\\n",
       "6252  5611338.0   $95.00  Entire home/apt  Madrid, Community of Madrid, Spain   \n",
       "4684  4176912.0  $220.00  Entire home/apt              London, United Kingdom   \n",
       "1731  1041523.0   $85.00  Entire home/apt                              London   \n",
       "4742  4225126.0   $95.00     Private room   New York, New York, United States   \n",
       "4521  4012401.0   $30.00     Private room                              LONDON   \n",
       "6340  5711398.0   $60.00     Private room                     London, England   \n",
       "\n",
       "     last_review  review_scores_rating  license  \n",
       "6252  2017-11-05                  96.0      NaN  \n",
       "4684  2015-04-02                  73.0      NaN  \n",
       "1731  2020-01-21                  95.0      NaN  \n",
       "4742         NaN                   NaN      NaN  \n",
       "4521  2020-07-20                  90.0      NaN  \n",
       "6340         NaN                   NaN      NaN  "
      ]
     },
     "execution_count": 12,
     "metadata": {},
     "output_type": "execute_result"
    }
   ],
   "source": [
    "df.sample(6, random_state=42)[['id', 'price', 'room_type', 'host_location', 'last_review', 'review_scores_rating', 'license']]"
   ]
  },
  {
   "cell_type": "markdown",
   "metadata": {},
   "source": [
    "## Task 2. Dealing with NaNs and Nulls\n",
    "\n",
    "If you look at the sample, you should see that a number of data types that aren't 'right' for their contents: the id columns are floats; the dates aren't dates; there's a boolean that's not a boolean... It would be nice to fix these! \n",
    "\n",
    "<div style=\"border: dotted 1px rgb(156,121,26); padding: 10px; margin: 5px; background-color: rgb(255,236,184)\"><i>Note</i>: I had intended to ask you to fix these by combining code from previous weeks with information provided in the lecture, but it turns out that the InsideAirbnb data set is <i>dirty</i>. There are a lot of <tt>NaN</tt> values and some of these are <i>deeply</i> problematic for some of the column types in pandas. There are also a number of challenges with other columns so, instead, I've opted to show you how I would clean this data as a <i>first pass</i> to get it into a format where it's tractable for further cleaning.</div>"
   ]
  },
  {
   "cell_type": "markdown",
   "metadata": {},
   "source": [
    "### Task 2.1 Identifying Problem Rows\n",
    "\n",
    "The reason I'm not asking you to do this part yourselves is that it took me nearly an hour just to work out why I couldn't convert some of the columns to the right data types; then I started finding rows like these:"
   ]
  },
  {
   "cell_type": "code",
   "execution_count": 13,
   "metadata": {},
   "outputs": [
    {
     "data": {
      "text/html": [
       "<div>\n",
       "<style scoped>\n",
       "    .dataframe tbody tr th:only-of-type {\n",
       "        vertical-align: middle;\n",
       "    }\n",
       "\n",
       "    .dataframe tbody tr th {\n",
       "        vertical-align: top;\n",
       "    }\n",
       "\n",
       "    .dataframe thead th {\n",
       "        text-align: right;\n",
       "    }\n",
       "</style>\n",
       "<table border=\"1\" class=\"dataframe\">\n",
       "  <thead>\n",
       "    <tr style=\"text-align: right;\">\n",
       "      <th></th>\n",
       "      <th>id</th>\n",
       "      <th>listing_url</th>\n",
       "      <th>last_scraped</th>\n",
       "      <th>name</th>\n",
       "      <th>description</th>\n",
       "      <th>host_id</th>\n",
       "      <th>host_name</th>\n",
       "      <th>host_since</th>\n",
       "      <th>host_location</th>\n",
       "      <th>host_about</th>\n",
       "      <th>...</th>\n",
       "      <th>last_review</th>\n",
       "      <th>review_scores_rating</th>\n",
       "      <th>review_scores_cleanliness</th>\n",
       "      <th>review_scores_checkin</th>\n",
       "      <th>review_scores_communication</th>\n",
       "      <th>review_scores_location</th>\n",
       "      <th>license</th>\n",
       "      <th>instant_bookable</th>\n",
       "      <th>calculated_host_listings_count</th>\n",
       "      <th>reviews_per_month</th>\n",
       "    </tr>\n",
       "  </thead>\n",
       "  <tbody>\n",
       "    <tr>\n",
       "      <th>3558</th>\n",
       "      <td>3138549.0</td>\n",
       "      <td>https://www.airbnb.com/rooms/3138549</td>\n",
       "      <td>2020-08-26</td>\n",
       "      <td>Heart of City of London/Shoreditch</td>\n",
       "      <td>Our lovely flat is in a newly designed buildin...</td>\n",
       "      <td>4968944.0</td>\n",
       "      <td>Alejandra</td>\n",
       "      <td>2013-02-04</td>\n",
       "      <td>London, United Kingdom</td>\n",
       "      <td>Alejandra Avila</td>\n",
       "      <td>...</td>\n",
       "      <td>NaN</td>\n",
       "      <td>NaN</td>\n",
       "      <td>NaN</td>\n",
       "      <td>NaN</td>\n",
       "      <td>NaN</td>\n",
       "      <td>NaN</td>\n",
       "      <td>NaN</td>\n",
       "      <td>NaN</td>\n",
       "      <td>NaN</td>\n",
       "      <td>NaN</td>\n",
       "    </tr>\n",
       "    <tr>\n",
       "      <th>3559</th>\n",
       "      <td>NaN</td>\n",
       "      <td>NaN</td>\n",
       "      <td>NaN</td>\n",
       "      <td>f</td>\n",
       "      <td>https://a0.muscache.com/im/pictures/user/1c171...</td>\n",
       "      <td>1.0</td>\n",
       "      <td>['email', 'phone', 'reviews', 'jumio', 'govern...</td>\n",
       "      <td>t</td>\n",
       "      <td>f</td>\n",
       "      <td>London, United Kingdom</td>\n",
       "      <td>...</td>\n",
       "      <td>0</td>\n",
       "      <td>0.13</td>\n",
       "      <td>NaN</td>\n",
       "      <td>NaN</td>\n",
       "      <td>NaN</td>\n",
       "      <td>NaN</td>\n",
       "      <td>NaN</td>\n",
       "      <td>NaN</td>\n",
       "      <td>NaN</td>\n",
       "      <td>NaN</td>\n",
       "    </tr>\n",
       "    <tr>\n",
       "      <th>3560</th>\n",
       "      <td>3140773.0</td>\n",
       "      <td>https://www.airbnb.com/rooms/3140773</td>\n",
       "      <td>2020-08-26</td>\n",
       "      <td>One bed flat set on Victoria Park</td>\n",
       "      <td>Home away from home. New build one bed flat on...</td>\n",
       "      <td>15947403.0</td>\n",
       "      <td>Mary</td>\n",
       "      <td>2014-05-25</td>\n",
       "      <td>London, United Kingdom</td>\n",
       "      <td>NaN</td>\n",
       "      <td>...</td>\n",
       "      <td>2017-05-10</td>\n",
       "      <td>100.00</td>\n",
       "      <td>10.0</td>\n",
       "      <td>10.0</td>\n",
       "      <td>10.0</td>\n",
       "      <td>10.0</td>\n",
       "      <td>NaN</td>\n",
       "      <td>f</td>\n",
       "      <td>1.0</td>\n",
       "      <td>0.02</td>\n",
       "    </tr>\n",
       "  </tbody>\n",
       "</table>\n",
       "<p>3 rows × 42 columns</p>\n",
       "</div>"
      ],
      "text/plain": [
       "             id                           listing_url last_scraped  \\\n",
       "3558  3138549.0  https://www.airbnb.com/rooms/3138549   2020-08-26   \n",
       "3559        NaN                                   NaN          NaN   \n",
       "3560  3140773.0  https://www.airbnb.com/rooms/3140773   2020-08-26   \n",
       "\n",
       "                                    name  \\\n",
       "3558  Heart of City of London/Shoreditch   \n",
       "3559                                   f   \n",
       "3560   One bed flat set on Victoria Park   \n",
       "\n",
       "                                            description     host_id  \\\n",
       "3558  Our lovely flat is in a newly designed buildin...   4968944.0   \n",
       "3559  https://a0.muscache.com/im/pictures/user/1c171...         1.0   \n",
       "3560  Home away from home. New build one bed flat on...  15947403.0   \n",
       "\n",
       "                                              host_name  host_since  \\\n",
       "3558                                          Alejandra  2013-02-04   \n",
       "3559  ['email', 'phone', 'reviews', 'jumio', 'govern...           t   \n",
       "3560                                               Mary  2014-05-25   \n",
       "\n",
       "               host_location              host_about  ... last_review  \\\n",
       "3558  London, United Kingdom        Alejandra Avila   ...         NaN   \n",
       "3559                       f  London, United Kingdom  ...           0   \n",
       "3560  London, United Kingdom                     NaN  ...  2017-05-10   \n",
       "\n",
       "     review_scores_rating review_scores_cleanliness  review_scores_checkin  \\\n",
       "3558                  NaN                       NaN                    NaN   \n",
       "3559                 0.13                       NaN                    NaN   \n",
       "3560               100.00                      10.0                   10.0   \n",
       "\n",
       "     review_scores_communication review_scores_location  license  \\\n",
       "3558                         NaN                    NaN      NaN   \n",
       "3559                         NaN                    NaN      NaN   \n",
       "3560                        10.0                   10.0      NaN   \n",
       "\n",
       "      instant_bookable calculated_host_listings_count reviews_per_month  \n",
       "3558               NaN                            NaN               NaN  \n",
       "3559               NaN                            NaN               NaN  \n",
       "3560                 f                            1.0              0.02  \n",
       "\n",
       "[3 rows x 42 columns]"
      ]
     },
     "execution_count": 13,
     "metadata": {},
     "output_type": "execute_result"
    }
   ],
   "source": [
    "df.iloc[3558:3561,:]"
   ]
  },
  {
   "cell_type": "markdown",
   "metadata": {},
   "source": [
    "Notice that the row with index value `3559` is clearly _wrong_: if I had to guess, I'd say that it's some kind of partial extract/write process because there _are_ elements in there that look right but they are obviously in the wrong columns. So we can _probably_ drop some of these rows, but one thing to do is look at the frequency of NaNs across the data frame _first_. So we need to look for NaNs and Nulls, but it's quite obvious that a `NaN` in the listing id is a basic problem and we should [drop these](https://chrisalbon.com/python/data_wrangling/pandas_dropping_column_and_rows/)."
   ]
  },
  {
   "cell_type": "code",
   "execution_count": 14,
   "metadata": {},
   "outputs": [
    {
     "data": {
      "text/html": [
       "<div>\n",
       "<style scoped>\n",
       "    .dataframe tbody tr th:only-of-type {\n",
       "        vertical-align: middle;\n",
       "    }\n",
       "\n",
       "    .dataframe tbody tr th {\n",
       "        vertical-align: top;\n",
       "    }\n",
       "\n",
       "    .dataframe thead th {\n",
       "        text-align: right;\n",
       "    }\n",
       "</style>\n",
       "<table border=\"1\" class=\"dataframe\">\n",
       "  <thead>\n",
       "    <tr style=\"text-align: right;\">\n",
       "      <th></th>\n",
       "      <th>id</th>\n",
       "      <th>listing_url</th>\n",
       "      <th>name</th>\n",
       "      <th>description</th>\n",
       "      <th>host_id</th>\n",
       "      <th>host_name</th>\n",
       "    </tr>\n",
       "  </thead>\n",
       "  <tbody>\n",
       "    <tr>\n",
       "      <th>3559</th>\n",
       "      <td>NaN</td>\n",
       "      <td>NaN</td>\n",
       "      <td>f</td>\n",
       "      <td>https://a0.muscache.com/im/pictures/user/1c171...</td>\n",
       "      <td>1.0</td>\n",
       "      <td>['email', 'phone', 'reviews', 'jumio', 'govern...</td>\n",
       "    </tr>\n",
       "  </tbody>\n",
       "</table>\n",
       "</div>"
      ],
      "text/plain": [
       "      id listing_url name                                        description  \\\n",
       "3559 NaN         NaN    f  https://a0.muscache.com/im/pictures/user/1c171...   \n",
       "\n",
       "      host_id                                          host_name  \n",
       "3559      1.0  ['email', 'phone', 'reviews', 'jumio', 'govern...  "
      ]
     },
     "execution_count": 14,
     "metadata": {},
     "output_type": "execute_result"
    }
   ],
   "source": [
    "df[df.id.isna()][['id','listing_url','name','description','host_id','host_name']]"
   ]
  },
  {
   "cell_type": "markdown",
   "metadata": {},
   "source": [
    "As always, if you don't know that's going on, break it down:\n",
    "\n",
    "- You have seen how `[[<column names>]]` works, so that's just selecting the columns that we want to show.\n",
    "- You know how `df[<selection criteria>]` works, so that isn't anything really new either!\n",
    "- So the only really new part is `df.id.isna()`: `df.id` is the `id` column (we could have written this `df['id']` if we wanted) and `isna()` is a test for whether or not a value is NaN. \n",
    "\n",
    "So this shows that only one row in the 10,000 row sub-sample has a NaN for its id."
   ]
  },
  {
   "cell_type": "markdown",
   "metadata": {},
   "source": [
    "If you're not sure what the next line does, try breaking it down by running the inner bits before you run the `drop` command; and also try looking online for examples of how to use `df.drop` (e.g. just up above):"
   ]
  },
  {
   "cell_type": "code",
   "execution_count": 15,
   "metadata": {},
   "outputs": [],
   "source": [
    "df.drop(df[df.id.isna()].index.values, axis=0, inplace=True)"
   ]
  },
  {
   "cell_type": "markdown",
   "metadata": {},
   "source": [
    "With that really troublesome data out of the way, you can now turn to [counting NaNs or Nulls](https://www.delftstack.com/howto/python-pandas/how-to-count-the-nan-values-in-a-column-in-pandas-dataframe/#df.isnull.sum-method-to-count-nan-occurrences) in the remaining data with a view to identifying other rows that can probably be dropped."
   ]
  },
  {
   "cell_type": "markdown",
   "metadata": {},
   "source": [
    "### Task 2.2: Counting Nulls by Column\n",
    "\n",
    "As a starting point I would look to drop the columns that contain only NaNs. Remember that we've dropped a row from the data frame)! Notice how this next command works:\n",
    "```python\n",
    "# returns a data frame with all values set to True/False according to Null status\n",
    "df.isnull() \n",
    "# counts these values by column (we'll see another option in a moment)\n",
    "df.isnull.sum(axis=0) \n",
    "# Sort results in descending order\n",
    "df.isnull.sum(axis=0).sort_values(ascending=False) \n",
    "```"
   ]
  },
  {
   "cell_type": "code",
   "execution_count": 16,
   "metadata": {},
   "outputs": [
    {
     "data": {
      "text/plain": [
       "bathrooms                      9999\n",
       "license                        9999\n",
       "host_response_rate             5990\n",
       "host_acceptance_rate           4194\n",
       "host_about                     2489\n",
       "review_scores_checkin          1933\n",
       "review_scores_location         1929\n",
       "review_scores_cleanliness      1928\n",
       "review_scores_communication    1925\n",
       "review_scores_rating           1913\n",
       "first_review                   1811\n",
       "last_review                    1811\n",
       "dtype: int64"
      ]
     },
     "execution_count": 16,
     "metadata": {},
     "output_type": "execute_result"
    }
   ],
   "source": [
    "df.isnull().sum(axis=0).sort_values(ascending=False)[:12]"
   ]
  },
  {
   "cell_type": "markdown",
   "metadata": {},
   "source": [
    "The most obvious ones here are:\n",
    "```\n",
    "bathrooms                         9999\n",
    "license                           9999\n",
    "host_response_rate                5990\n",
    "host_acceptance_rate              4194\n",
    "host_about                        2489\n",
    "```"
   ]
  },
  {
   "cell_type": "code",
   "execution_count": 17,
   "metadata": {},
   "outputs": [],
   "source": [
    "df.drop(columns=['bathrooms','license','host_response_rate','host_acceptance_rate','host_about'], inplace=True)"
   ]
  },
  {
   "cell_type": "markdown",
   "metadata": {},
   "source": [
    "Because we have dropped everything `inplace` the code simply runs and doesn't return anything."
   ]
  },
  {
   "cell_type": "markdown",
   "metadata": {},
   "source": [
    "### Task 2.3: Counting Nulls by Row\n",
    "\n",
    "We now know that there _are_ still quite a few problems, but we do still need a way to identify the rows that are causing most of the problems.\n",
    "\n",
    "Notice here that the change from `axis=0` to `axis=1` changes the 'direction' of the `sum` from columns to rows. And we are getting back a data series because the summing operation reduces it to just one column."
   ]
  },
  {
   "cell_type": "code",
   "execution_count": 18,
   "metadata": {},
   "outputs": [
    {
     "data": {
      "text/plain": [
       "3558    28\n",
       "8052    14\n",
       "8992    14\n",
       "8015    14\n",
       "9767    14\n",
       "        ..\n",
       "3584     0\n",
       "3583     0\n",
       "3582     0\n",
       "3581     0\n",
       "9999     0\n",
       "Length: 9999, dtype: int64"
      ]
     },
     "execution_count": 18,
     "metadata": {},
     "output_type": "execute_result"
    }
   ],
   "source": [
    "df.isnull().sum(axis=1).sort_values(ascending=False)"
   ]
  },
  {
   "cell_type": "markdown",
   "metadata": {},
   "source": [
    "So that is Series showing how many NaN values there are by index value. You should see something like:\n",
    "```\n",
    "3558    28\n",
    "8015    14\n",
    "9767    14\n",
    "8052    14\n",
    "8992    14\n",
    "```\n",
    "If we save the results to a variable called `probs` (i.e. problems) then we can decide what to do next.\n",
    "\n",
    "<div style=\"border: dotted 1px rgb(156,121,26); padding: 10px; margin: 5px; background-color: rgb(255,236,184)\"><i>Note</i>: there's a chance that Python will complain why you try to run the third line of code. This is particularly likely if you are using Anaconda Python directly (i.e. not Docker or Vagrant). In that case you need to add the code listed at the start of Task 5.</div>"
   ]
  },
  {
   "cell_type": "code",
   "execution_count": 19,
   "metadata": {},
   "outputs": [
    {
     "name": "stdout",
     "output_type": "stream",
     "text": [
      "<class 'pandas.core.series.Series'>\n"
     ]
    },
    {
     "data": {
      "text/plain": [
       "<AxesSubplot:ylabel='Frequency'>"
      ]
     },
     "execution_count": 19,
     "metadata": {},
     "output_type": "execute_result"
    },
    {
     "data": {
      "image/png": "[encoded data removed]",
      "text/plain": [
       "<Figure size 432x288 with 1 Axes>"
      ]
     },
     "metadata": {
      "needs_background": "light"
     },
     "output_type": "display_data"
    }
   ],
   "source": [
    "probs = df.isnull().sum(axis=1)\n",
    "print(type(probs))       # Note that this has returned a series!\n",
    "probs.plot.hist(bins=30) # Oooooooh, check out what we can do with a series!"
   ]
  },
  {
   "cell_type": "markdown",
   "metadata": {},
   "source": [
    "Looking at this histogram, these look like two groups in the data so I would start there. I would take values greater than about 7 as being ones that are most likely be problematic. We can use the index from `probs` to select out the rows we want to inspect from the main data frame.\n",
    "\n",
    "Here's another bit of code that bears unpacking:\n",
    "1. `probs > 7`: this selects only those rows in the 'probs' series whose value is greater than 7\n",
    "2. `probs[...].index` returns the index values from the Series, which we will then pass to the `drop` command.\n",
    "3. `df.drop(..., inplace=True)` will then drop the rows selected by `probs[probs>7].index`."
   ]
  },
  {
   "cell_type": "code",
   "execution_count": 20,
   "metadata": {},
   "outputs": [],
   "source": [
    "df.drop(probs[probs > 7].index, inplace=True)"
   ]
  },
  {
   "cell_type": "code",
   "execution_count": 21,
   "metadata": {},
   "outputs": [
    {
     "name": "stdout",
     "output_type": "stream",
     "text": [
      "Have reduced data frame to: 8188 rows and 37 columns\n"
     ]
    }
   ],
   "source": [
    "print(f\"Have reduced data frame to: {df.shape[0]} rows and {df.shape[1]} columns\")"
   ]
  },
  {
   "cell_type": "markdown",
   "metadata": {},
   "source": [
    "## Task 3. Fixing the Remaining Data Issues"
   ]
  },
  {
   "cell_type": "markdown",
   "metadata": {},
   "source": [
    "If you want to challenge yourself, then I'd suggest trying to work out how to adapt what we saw in previous weeks using the `dtype` dict to map column names to column types; however, a more straightforward way to do this is to create different for loops for each:"
   ]
  },
  {
   "cell_type": "markdown",
   "metadata": {},
   "source": [
    "### Task 3.1: Boolean Values\n",
    "\n",
    "Let's start with columns that are likely to be boolean:"
   ]
  },
  {
   "cell_type": "code",
   "execution_count": 22,
   "metadata": {},
   "outputs": [
    {
     "data": {
      "text/html": [
       "<div>\n",
       "<style scoped>\n",
       "    .dataframe tbody tr th:only-of-type {\n",
       "        vertical-align: middle;\n",
       "    }\n",
       "\n",
       "    .dataframe tbody tr th {\n",
       "        vertical-align: top;\n",
       "    }\n",
       "\n",
       "    .dataframe thead th {\n",
       "        text-align: right;\n",
       "    }\n",
       "</style>\n",
       "<table border=\"1\" class=\"dataframe\">\n",
       "  <thead>\n",
       "    <tr style=\"text-align: right;\">\n",
       "      <th></th>\n",
       "      <th>instant_bookable</th>\n",
       "      <th>host_is_superhost</th>\n",
       "    </tr>\n",
       "  </thead>\n",
       "  <tbody>\n",
       "    <tr>\n",
       "      <th>4993</th>\n",
       "      <td>t</td>\n",
       "      <td>t</td>\n",
       "    </tr>\n",
       "    <tr>\n",
       "      <th>9740</th>\n",
       "      <td>f</td>\n",
       "      <td>f</td>\n",
       "    </tr>\n",
       "    <tr>\n",
       "      <th>8730</th>\n",
       "      <td>t</td>\n",
       "      <td>f</td>\n",
       "    </tr>\n",
       "    <tr>\n",
       "      <th>421</th>\n",
       "      <td>t</td>\n",
       "      <td>f</td>\n",
       "    </tr>\n",
       "    <tr>\n",
       "      <th>2225</th>\n",
       "      <td>t</td>\n",
       "      <td>t</td>\n",
       "    </tr>\n",
       "  </tbody>\n",
       "</table>\n",
       "</div>"
      ],
      "text/plain": [
       "     instant_bookable host_is_superhost\n",
       "4993                t                 t\n",
       "9740                f                 f\n",
       "8730                t                 f\n",
       "421                 t                 f\n",
       "2225                t                 t"
      ]
     },
     "execution_count": 22,
     "metadata": {},
     "output_type": "execute_result"
    }
   ],
   "source": [
    "bools = ['instant_bookable','host_is_superhost']\n",
    "df.sample(5, random_state=43)[bools]"
   ]
  },
  {
   "cell_type": "markdown",
   "metadata": {},
   "source": [
    "Here we have to `map` 't' to True and 'f' to False _before_ converting the column to a boolean type. If you simply tried to replace them with the strings 'True' and 'False', then the conversion would run into the same problem as Week 3: any string that is not `None` will convert a True boolean."
   ]
  },
  {
   "cell_type": "code",
   "execution_count": 23,
   "metadata": {},
   "outputs": [
    {
     "name": "stdout",
     "output_type": "stream",
     "text": [
      "Converting instant_bookable\n",
      "Converting host_is_superhost\n"
     ]
    }
   ],
   "source": [
    "# This approach requires us to map 't' and 'f'\n",
    "# to 'True' and 'False'\n",
    "map = {'f':False, 't':True}\n",
    "for b in bools:\n",
    "    print(f\"Converting {b}\")\n",
    "    df[b] = df[b].replace(map).astype('bool')"
   ]
  },
  {
   "cell_type": "code",
   "execution_count": 24,
   "metadata": {},
   "outputs": [
    {
     "data": {
      "text/html": [
       "<div>\n",
       "<style scoped>\n",
       "    .dataframe tbody tr th:only-of-type {\n",
       "        vertical-align: middle;\n",
       "    }\n",
       "\n",
       "    .dataframe tbody tr th {\n",
       "        vertical-align: top;\n",
       "    }\n",
       "\n",
       "    .dataframe thead th {\n",
       "        text-align: right;\n",
       "    }\n",
       "</style>\n",
       "<table border=\"1\" class=\"dataframe\">\n",
       "  <thead>\n",
       "    <tr style=\"text-align: right;\">\n",
       "      <th></th>\n",
       "      <th>instant_bookable</th>\n",
       "      <th>host_is_superhost</th>\n",
       "    </tr>\n",
       "  </thead>\n",
       "  <tbody>\n",
       "    <tr>\n",
       "      <th>4993</th>\n",
       "      <td>True</td>\n",
       "      <td>True</td>\n",
       "    </tr>\n",
       "    <tr>\n",
       "      <th>9740</th>\n",
       "      <td>False</td>\n",
       "      <td>False</td>\n",
       "    </tr>\n",
       "    <tr>\n",
       "      <th>8730</th>\n",
       "      <td>True</td>\n",
       "      <td>False</td>\n",
       "    </tr>\n",
       "    <tr>\n",
       "      <th>421</th>\n",
       "      <td>True</td>\n",
       "      <td>False</td>\n",
       "    </tr>\n",
       "    <tr>\n",
       "      <th>2225</th>\n",
       "      <td>True</td>\n",
       "      <td>True</td>\n",
       "    </tr>\n",
       "  </tbody>\n",
       "</table>\n",
       "</div>"
      ],
      "text/plain": [
       "      instant_bookable  host_is_superhost\n",
       "4993              True               True\n",
       "9740             False              False\n",
       "8730              True              False\n",
       "421               True              False\n",
       "2225              True               True"
      ]
     },
     "execution_count": 24,
     "metadata": {},
     "output_type": "execute_result"
    }
   ],
   "source": [
    "df.sample(5, random_state=43)[bools]"
   ]
  },
  {
   "cell_type": "markdown",
   "metadata": {},
   "source": [
    "### Task 3.2: Dates\n",
    "\n",
    "I've found dates to be particularly challenging, though pandas has _tried_ to make this process less painful than before using the `infer_datetime_format` option. What was particularly frustrating is that row 3559 had the value `t` in _one_ of the datetime columns and this caused the type conversion to fail but was unclear about where this was happening. I eventually worked it out by trying to convert _parts_ of each series in the data frame to datetime until I had a block that failed. I then knew that I could narrow this down using integer location indexing."
   ]
  },
  {
   "cell_type": "code",
   "execution_count": 25,
   "metadata": {},
   "outputs": [
    {
     "data": {
      "text/html": [
       "<div>\n",
       "<style scoped>\n",
       "    .dataframe tbody tr th:only-of-type {\n",
       "        vertical-align: middle;\n",
       "    }\n",
       "\n",
       "    .dataframe tbody tr th {\n",
       "        vertical-align: top;\n",
       "    }\n",
       "\n",
       "    .dataframe thead th {\n",
       "        text-align: right;\n",
       "    }\n",
       "</style>\n",
       "<table border=\"1\" class=\"dataframe\">\n",
       "  <thead>\n",
       "    <tr style=\"text-align: right;\">\n",
       "      <th></th>\n",
       "      <th>last_scraped</th>\n",
       "      <th>host_since</th>\n",
       "      <th>first_review</th>\n",
       "      <th>last_review</th>\n",
       "    </tr>\n",
       "  </thead>\n",
       "  <tbody>\n",
       "    <tr>\n",
       "      <th>4993</th>\n",
       "      <td>2020-08-26</td>\n",
       "      <td>2013-11-30</td>\n",
       "      <td>2014-12-21</td>\n",
       "      <td>2020-03-01</td>\n",
       "    </tr>\n",
       "    <tr>\n",
       "      <th>9740</th>\n",
       "      <td>2020-08-26</td>\n",
       "      <td>2015-04-12</td>\n",
       "      <td>2015-09-05</td>\n",
       "      <td>2015-09-05</td>\n",
       "    </tr>\n",
       "    <tr>\n",
       "      <th>8730</th>\n",
       "      <td>2020-08-26</td>\n",
       "      <td>2015-07-04</td>\n",
       "      <td>2015-07-31</td>\n",
       "      <td>2020-03-15</td>\n",
       "    </tr>\n",
       "    <tr>\n",
       "      <th>421</th>\n",
       "      <td>2020-08-27</td>\n",
       "      <td>2012-02-27</td>\n",
       "      <td>2016-02-15</td>\n",
       "      <td>2020-03-14</td>\n",
       "    </tr>\n",
       "    <tr>\n",
       "      <th>2225</th>\n",
       "      <td>2020-08-26</td>\n",
       "      <td>2013-04-24</td>\n",
       "      <td>2013-09-19</td>\n",
       "      <td>2020-06-03</td>\n",
       "    </tr>\n",
       "  </tbody>\n",
       "</table>\n",
       "</div>"
      ],
      "text/plain": [
       "     last_scraped  host_since first_review last_review\n",
       "4993   2020-08-26  2013-11-30   2014-12-21  2020-03-01\n",
       "9740   2020-08-26  2015-04-12   2015-09-05  2015-09-05\n",
       "8730   2020-08-26  2015-07-04   2015-07-31  2020-03-15\n",
       "421    2020-08-27  2012-02-27   2016-02-15  2020-03-14\n",
       "2225   2020-08-26  2013-04-24   2013-09-19  2020-06-03"
      ]
     },
     "execution_count": 25,
     "metadata": {},
     "output_type": "execute_result"
    }
   ],
   "source": [
    "dates = ['last_scraped','host_since','first_review','last_review']\n",
    "df.sample(5, random_state=43)[dates]"
   ]
  },
  {
   "cell_type": "code",
   "execution_count": 26,
   "metadata": {},
   "outputs": [
    {
     "name": "stdout",
     "output_type": "stream",
     "text": [
      "Converting last_scraped\n",
      "Converting host_since\n",
      "Converting first_review\n",
      "Converting last_review\n"
     ]
    }
   ],
   "source": [
    "for d in dates:\n",
    "    print(\"Converting \" + d)\n",
    "    df[d] = pd.to_datetime(df[d], infer_datetime_format=True)"
   ]
  },
  {
   "cell_type": "code",
   "execution_count": 27,
   "metadata": {},
   "outputs": [
    {
     "data": {
      "text/html": [
       "<div>\n",
       "<style scoped>\n",
       "    .dataframe tbody tr th:only-of-type {\n",
       "        vertical-align: middle;\n",
       "    }\n",
       "\n",
       "    .dataframe tbody tr th {\n",
       "        vertical-align: top;\n",
       "    }\n",
       "\n",
       "    .dataframe thead th {\n",
       "        text-align: right;\n",
       "    }\n",
       "</style>\n",
       "<table border=\"1\" class=\"dataframe\">\n",
       "  <thead>\n",
       "    <tr style=\"text-align: right;\">\n",
       "      <th></th>\n",
       "      <th>last_scraped</th>\n",
       "      <th>host_since</th>\n",
       "      <th>first_review</th>\n",
       "      <th>last_review</th>\n",
       "    </tr>\n",
       "  </thead>\n",
       "  <tbody>\n",
       "    <tr>\n",
       "      <th>4993</th>\n",
       "      <td>2020-08-26</td>\n",
       "      <td>2013-11-30</td>\n",
       "      <td>2014-12-21</td>\n",
       "      <td>2020-03-01</td>\n",
       "    </tr>\n",
       "    <tr>\n",
       "      <th>9740</th>\n",
       "      <td>2020-08-26</td>\n",
       "      <td>2015-04-12</td>\n",
       "      <td>2015-09-05</td>\n",
       "      <td>2015-09-05</td>\n",
       "    </tr>\n",
       "    <tr>\n",
       "      <th>8730</th>\n",
       "      <td>2020-08-26</td>\n",
       "      <td>2015-07-04</td>\n",
       "      <td>2015-07-31</td>\n",
       "      <td>2020-03-15</td>\n",
       "    </tr>\n",
       "    <tr>\n",
       "      <th>421</th>\n",
       "      <td>2020-08-27</td>\n",
       "      <td>2012-02-27</td>\n",
       "      <td>2016-02-15</td>\n",
       "      <td>2020-03-14</td>\n",
       "    </tr>\n",
       "    <tr>\n",
       "      <th>2225</th>\n",
       "      <td>2020-08-26</td>\n",
       "      <td>2013-04-24</td>\n",
       "      <td>2013-09-19</td>\n",
       "      <td>2020-06-03</td>\n",
       "    </tr>\n",
       "  </tbody>\n",
       "</table>\n",
       "</div>"
      ],
      "text/plain": [
       "     last_scraped host_since first_review last_review\n",
       "4993   2020-08-26 2013-11-30   2014-12-21  2020-03-01\n",
       "9740   2020-08-26 2015-04-12   2015-09-05  2015-09-05\n",
       "8730   2020-08-26 2015-07-04   2015-07-31  2020-03-15\n",
       "421    2020-08-27 2012-02-27   2016-02-15  2020-03-14\n",
       "2225   2020-08-26 2013-04-24   2013-09-19  2020-06-03"
      ]
     },
     "execution_count": 27,
     "metadata": {},
     "output_type": "execute_result"
    }
   ],
   "source": [
    "df.sample(5, random_state=43)[dates]"
   ]
  },
  {
   "cell_type": "markdown",
   "metadata": {},
   "source": [
    "Of course, it's not actually clear there what has changed! But if you dig a little more deeply:"
   ]
  },
  {
   "cell_type": "code",
   "execution_count": 28,
   "metadata": {},
   "outputs": [
    {
     "name": "stdout",
     "output_type": "stream",
     "text": [
      "datetime64[ns]\n"
     ]
    },
    {
     "data": {
      "text/plain": [
       "4993    26/08/20\n",
       "9740    26/08/20\n",
       "8730    26/08/20\n",
       "421     27/08/20\n",
       "2225    26/08/20\n",
       "Name: last_scraped, dtype: object"
      ]
     },
     "execution_count": 28,
     "metadata": {},
     "output_type": "execute_result"
    }
   ],
   "source": [
    "print(df[dates[0]].dtype)\n",
    "df.sample(5, random_state=43)[dates[0]].dt.strftime('%d/%m/%y')\n",
    "# Try some other columns and other formats!"
   ]
  },
  {
   "cell_type": "markdown",
   "metadata": {},
   "source": [
    "In that line of code we:\n",
    "- Took a random sample (setting the state to 43)\n",
    "- Took the first column from the dates list (`dates[0]`)\n",
    "- Used the _date_ accessor \n",
    "- And called `string format time` with the format `%d/%m/%y`"
   ]
  },
  {
   "cell_type": "markdown",
   "metadata": {},
   "source": [
    "### Task 3.3: Categories\n",
    "\n",
    "We know that these are likely to be categories because there'd be no other way to allow users to effectively search Airbnb"
   ]
  },
  {
   "cell_type": "code",
   "execution_count": 29,
   "metadata": {},
   "outputs": [
    {
     "data": {
      "text/html": [
       "<div>\n",
       "<style scoped>\n",
       "    .dataframe tbody tr th:only-of-type {\n",
       "        vertical-align: middle;\n",
       "    }\n",
       "\n",
       "    .dataframe tbody tr th {\n",
       "        vertical-align: top;\n",
       "    }\n",
       "\n",
       "    .dataframe thead th {\n",
       "        text-align: right;\n",
       "    }\n",
       "</style>\n",
       "<table border=\"1\" class=\"dataframe\">\n",
       "  <thead>\n",
       "    <tr style=\"text-align: right;\">\n",
       "      <th></th>\n",
       "      <th>property_type</th>\n",
       "      <th>room_type</th>\n",
       "    </tr>\n",
       "  </thead>\n",
       "  <tbody>\n",
       "    <tr>\n",
       "      <th>4993</th>\n",
       "      <td>Entire apartment</td>\n",
       "      <td>Entire home/apt</td>\n",
       "    </tr>\n",
       "    <tr>\n",
       "      <th>9740</th>\n",
       "      <td>Private room in apartment</td>\n",
       "      <td>Private room</td>\n",
       "    </tr>\n",
       "    <tr>\n",
       "      <th>8730</th>\n",
       "      <td>Private room in apartment</td>\n",
       "      <td>Private room</td>\n",
       "    </tr>\n",
       "    <tr>\n",
       "      <th>421</th>\n",
       "      <td>Private room in townhouse</td>\n",
       "      <td>Private room</td>\n",
       "    </tr>\n",
       "    <tr>\n",
       "      <th>2225</th>\n",
       "      <td>Entire apartment</td>\n",
       "      <td>Entire home/apt</td>\n",
       "    </tr>\n",
       "  </tbody>\n",
       "</table>\n",
       "</div>"
      ],
      "text/plain": [
       "                  property_type        room_type\n",
       "4993           Entire apartment  Entire home/apt\n",
       "9740  Private room in apartment     Private room\n",
       "8730  Private room in apartment     Private room\n",
       "421   Private room in townhouse     Private room\n",
       "2225           Entire apartment  Entire home/apt"
      ]
     },
     "execution_count": 29,
     "metadata": {},
     "output_type": "execute_result"
    }
   ],
   "source": [
    "cats = ['property_type','room_type']\n",
    "df.sample(5, random_state=43)[cats]"
   ]
  },
  {
   "cell_type": "markdown",
   "metadata": {},
   "source": [
    "This next piece of code is quite useful for grouping and counting operations: we are counting the occurences of each unique value in part particular column or combination of columns:"
   ]
  },
  {
   "cell_type": "code",
   "execution_count": 30,
   "metadata": {},
   "outputs": [
    {
     "data": {
      "text/plain": [
       "Entire apartment                      3460\n",
       "Private room in apartment             1942\n",
       "Private room in house                 1258\n",
       "Entire house                           575\n",
       "Private room in townhouse              301\n",
       "Entire townhouse                       163\n",
       "Entire loft                             79\n",
       "Private room in bed and breakfast       66\n",
       "Private room in loft                    51\n",
       "Entire condominium                      44\n",
       "Private room in condominium             43\n",
       "Entire serviced apartment               19\n",
       "Entire guest suite                      19\n",
       "Room in serviced apartment              19\n",
       "Private room in guest suite             17\n",
       "Shared room in apartment                17\n",
       "Room in boutique hotel                  16\n",
       "Private room                            13\n",
       "Entire guesthouse                       10\n",
       "Shared room in house                     8\n",
       "Private room in guesthouse               8\n",
       "Room in bed and breakfast                7\n",
       "Shared room in bed and breakfast         6\n",
       "Boat                                     6\n",
       "Shared room in hostel                    5\n",
       "Private room in bungalow                 5\n",
       "Entire bungalow                          3\n",
       "Entire cottage                           3\n",
       "Room in aparthotel                       2\n",
       "Tiny house                               2\n",
       "Private room in villa                    2\n",
       "Camper/RV                                2\n",
       "Shared room in loft                      2\n",
       "Private room in cottage                  2\n",
       "Houseboat                                1\n",
       "Shared room in condominium               1\n",
       "Shared room in guest suite               1\n",
       "Yurt                                     1\n",
       "Private room in yurt                     1\n",
       "Entire floor                             1\n",
       "Private room in boat                     1\n",
       "Entire place                             1\n",
       "Private room in parking space            1\n",
       "Private room in cabin                    1\n",
       "Private room in serviced apartment       1\n",
       "Campsite                                 1\n",
       "Entire cabin                             1\n",
       "Name: property_type, dtype: int64"
      ]
     },
     "execution_count": 30,
     "metadata": {},
     "output_type": "execute_result"
    }
   ],
   "source": [
    "df[cats[0]].value_counts()"
   ]
  },
  {
   "cell_type": "code",
   "execution_count": 31,
   "metadata": {},
   "outputs": [
    {
     "data": {
      "text/plain": [
       "Entire home/apt    4391\n",
       "Private room       3729\n",
       "Shared room          40\n",
       "Hotel room           28\n",
       "Name: room_type, dtype: int64"
      ]
     },
     "execution_count": 31,
     "metadata": {},
     "output_type": "execute_result"
    }
   ],
   "source": [
    "df[cats[1]].value_counts()"
   ]
  },
  {
   "cell_type": "markdown",
   "metadata": {},
   "source": [
    "<div style=\"border: dotted 1px green; padding: 10px; margin: 5px; background-color: rgb(249,255,249);\"><i>Hint</i>: one column has <i>many</i> different values (including Campers/RVs and Yurts!), the other has just four. If I were looking to conduct research I'd probably <i>start</i> with the <tt>room_type</tt> column since I may not care about hotels and therefore never even need to decide whether I care about boutique ones!</div>"
   ]
  },
  {
   "cell_type": "code",
   "execution_count": 32,
   "metadata": {},
   "outputs": [
    {
     "name": "stdout",
     "output_type": "stream",
     "text": [
      "Converting property_type\n",
      "Converting room_type\n"
     ]
    }
   ],
   "source": [
    "for c in cats:\n",
    "    print(f\"Converting {c}\")\n",
    "    df[c] = df[c].astype('category')"
   ]
  },
  {
   "cell_type": "code",
   "execution_count": 33,
   "metadata": {},
   "outputs": [
    {
     "name": "stdout",
     "output_type": "stream",
     "text": [
      "['Entire home/apt' 'Hotel room' 'Private room' 'Shared room']\n"
     ]
    }
   ],
   "source": [
    "print(df[cats[1]].cat.categories.values)"
   ]
  },
  {
   "cell_type": "code",
   "execution_count": 34,
   "metadata": {},
   "outputs": [
    {
     "data": {
      "text/html": [
       "<div>\n",
       "<style scoped>\n",
       "    .dataframe tbody tr th:only-of-type {\n",
       "        vertical-align: middle;\n",
       "    }\n",
       "\n",
       "    .dataframe tbody tr th {\n",
       "        vertical-align: top;\n",
       "    }\n",
       "\n",
       "    .dataframe thead th {\n",
       "        text-align: right;\n",
       "    }\n",
       "</style>\n",
       "<table border=\"1\" class=\"dataframe\">\n",
       "  <thead>\n",
       "    <tr style=\"text-align: right;\">\n",
       "      <th></th>\n",
       "      <th>property_type</th>\n",
       "      <th>room_type</th>\n",
       "    </tr>\n",
       "  </thead>\n",
       "  <tbody>\n",
       "    <tr>\n",
       "      <th>4993</th>\n",
       "      <td>Entire apartment</td>\n",
       "      <td>Entire home/apt</td>\n",
       "    </tr>\n",
       "    <tr>\n",
       "      <th>9740</th>\n",
       "      <td>Private room in apartment</td>\n",
       "      <td>Private room</td>\n",
       "    </tr>\n",
       "    <tr>\n",
       "      <th>8730</th>\n",
       "      <td>Private room in apartment</td>\n",
       "      <td>Private room</td>\n",
       "    </tr>\n",
       "    <tr>\n",
       "      <th>421</th>\n",
       "      <td>Private room in townhouse</td>\n",
       "      <td>Private room</td>\n",
       "    </tr>\n",
       "    <tr>\n",
       "      <th>2225</th>\n",
       "      <td>Entire apartment</td>\n",
       "      <td>Entire home/apt</td>\n",
       "    </tr>\n",
       "  </tbody>\n",
       "</table>\n",
       "</div>"
      ],
      "text/plain": [
       "                  property_type        room_type\n",
       "4993           Entire apartment  Entire home/apt\n",
       "9740  Private room in apartment     Private room\n",
       "8730  Private room in apartment     Private room\n",
       "421   Private room in townhouse     Private room\n",
       "2225           Entire apartment  Entire home/apt"
      ]
     },
     "execution_count": 34,
     "metadata": {},
     "output_type": "execute_result"
    }
   ],
   "source": [
    "df.sample(5, random_state=43)[cats]"
   ]
  },
  {
   "cell_type": "markdown",
   "metadata": {},
   "source": [
    "### Task 3.4: Dealing with Strings\n",
    "\n",
    "We'll have to put some more work into deal with the description and other more free-from text fields later in the term, but for now let's just deal with a straightforward one: price!"
   ]
  },
  {
   "cell_type": "code",
   "execution_count": 36,
   "metadata": {},
   "outputs": [
    {
     "data": {
      "text/html": [
       "<div>\n",
       "<style scoped>\n",
       "    .dataframe tbody tr th:only-of-type {\n",
       "        vertical-align: middle;\n",
       "    }\n",
       "\n",
       "    .dataframe tbody tr th {\n",
       "        vertical-align: top;\n",
       "    }\n",
       "\n",
       "    .dataframe thead th {\n",
       "        text-align: right;\n",
       "    }\n",
       "</style>\n",
       "<table border=\"1\" class=\"dataframe\">\n",
       "  <thead>\n",
       "    <tr style=\"text-align: right;\">\n",
       "      <th></th>\n",
       "      <th>price</th>\n",
       "    </tr>\n",
       "  </thead>\n",
       "  <tbody>\n",
       "    <tr>\n",
       "      <th>2474</th>\n",
       "      <td>$94.00</td>\n",
       "    </tr>\n",
       "    <tr>\n",
       "      <th>4945</th>\n",
       "      <td>$59.00</td>\n",
       "    </tr>\n",
       "    <tr>\n",
       "      <th>5753</th>\n",
       "      <td>$33.00</td>\n",
       "    </tr>\n",
       "    <tr>\n",
       "      <th>7998</th>\n",
       "      <td>$150.00</td>\n",
       "    </tr>\n",
       "    <tr>\n",
       "      <th>1610</th>\n",
       "      <td>$19.00</td>\n",
       "    </tr>\n",
       "  </tbody>\n",
       "</table>\n",
       "</div>"
      ],
      "text/plain": [
       "        price\n",
       "2474   $94.00\n",
       "4945   $59.00\n",
       "5753   $33.00\n",
       "7998  $150.00\n",
       "1610   $19.00"
      ]
     },
     "execution_count": 36,
     "metadata": {},
     "output_type": "execute_result"
    }
   ],
   "source": [
    "money = ['price']\n",
    "df.sample(5, random_state=42)[money]"
   ]
  },
  {
   "cell_type": "markdown",
   "metadata": {},
   "source": [
    "You will get an error when you run this, that's because I want you to do a little thinking about how to extend the code to fix the _second_ problem. It's the same type of problem, you'll just need to figure out how to solve it by adapting the code you've already got!"
   ]
  },
  {
   "cell_type": "code",
   "execution_count": 37,
   "metadata": {},
   "outputs": [
    {
     "name": "stdout",
     "output_type": "stream",
     "text": [
      "Converting price\n"
     ]
    },
    {
     "name": "stderr",
     "output_type": "stream",
     "text": [
      "/tmp/ipykernel_517/2937593760.py:3: FutureWarning: The default value of regex will change from True to False in a future version. In addition, single character regular expressions will *not* be treated as literal strings when regex=True.\n",
      "  df[m] = df[m].str.replace('$','').astype('float')\n"
     ]
    },
    {
     "ename": "ValueError",
     "evalue": "could not convert string to float: '1,200.00'",
     "output_type": "error",
     "traceback": [
      "\u001b[0;31m---------------------------------------------------------------------------\u001b[0m",
      "\u001b[0;31mValueError\u001b[0m                                Traceback (most recent call last)",
      "\u001b[0;32m/tmp/ipykernel_517/2937593760.py\u001b[0m in \u001b[0;36m<module>\u001b[0;34m\u001b[0m\n\u001b[1;32m      1\u001b[0m \u001b[0;32mfor\u001b[0m \u001b[0mm\u001b[0m \u001b[0;32min\u001b[0m \u001b[0mmoney\u001b[0m\u001b[0;34m:\u001b[0m\u001b[0;34m\u001b[0m\u001b[0;34m\u001b[0m\u001b[0m\n\u001b[1;32m      2\u001b[0m     \u001b[0mprint\u001b[0m\u001b[0;34m(\u001b[0m\u001b[0;34mf\"Converting {m}\"\u001b[0m\u001b[0;34m)\u001b[0m\u001b[0;34m\u001b[0m\u001b[0;34m\u001b[0m\u001b[0m\n\u001b[0;32m----> 3\u001b[0;31m     \u001b[0mdf\u001b[0m\u001b[0;34m[\u001b[0m\u001b[0mm\u001b[0m\u001b[0;34m]\u001b[0m \u001b[0;34m=\u001b[0m \u001b[0mdf\u001b[0m\u001b[0;34m[\u001b[0m\u001b[0mm\u001b[0m\u001b[0;34m]\u001b[0m\u001b[0;34m.\u001b[0m\u001b[0mstr\u001b[0m\u001b[0;34m.\u001b[0m\u001b[0mreplace\u001b[0m\u001b[0;34m(\u001b[0m\u001b[0;34m'$'\u001b[0m\u001b[0;34m,\u001b[0m\u001b[0;34m''\u001b[0m\u001b[0;34m)\u001b[0m\u001b[0;34m.\u001b[0m\u001b[0mastype\u001b[0m\u001b[0;34m(\u001b[0m\u001b[0;34m'float'\u001b[0m\u001b[0;34m)\u001b[0m\u001b[0;34m\u001b[0m\u001b[0;34m\u001b[0m\u001b[0m\n\u001b[0m",
      "\u001b[0;32m~/miniconda3/envs/sds2021/lib/python3.9/site-packages/pandas/core/generic.py\u001b[0m in \u001b[0;36mastype\u001b[0;34m(self, dtype, copy, errors)\u001b[0m\n\u001b[1;32m   5804\u001b[0m         \u001b[0;32melse\u001b[0m\u001b[0;34m:\u001b[0m\u001b[0;34m\u001b[0m\u001b[0;34m\u001b[0m\u001b[0m\n\u001b[1;32m   5805\u001b[0m             \u001b[0;31m# else, only a single dtype is given\u001b[0m\u001b[0;34m\u001b[0m\u001b[0;34m\u001b[0m\u001b[0;34m\u001b[0m\u001b[0m\n\u001b[0;32m-> 5806\u001b[0;31m             \u001b[0mnew_data\u001b[0m \u001b[0;34m=\u001b[0m \u001b[0mself\u001b[0m\u001b[0;34m.\u001b[0m\u001b[0m_mgr\u001b[0m\u001b[0;34m.\u001b[0m\u001b[0mastype\u001b[0m\u001b[0;34m(\u001b[0m\u001b[0mdtype\u001b[0m\u001b[0;34m=\u001b[0m\u001b[0mdtype\u001b[0m\u001b[0;34m,\u001b[0m \u001b[0mcopy\u001b[0m\u001b[0;34m=\u001b[0m\u001b[0mcopy\u001b[0m\u001b[0;34m,\u001b[0m \u001b[0merrors\u001b[0m\u001b[0;34m=\u001b[0m\u001b[0merrors\u001b[0m\u001b[0;34m)\u001b[0m\u001b[0;34m\u001b[0m\u001b[0;34m\u001b[0m\u001b[0m\n\u001b[0m\u001b[1;32m   5807\u001b[0m             \u001b[0;32mreturn\u001b[0m \u001b[0mself\u001b[0m\u001b[0;34m.\u001b[0m\u001b[0m_constructor\u001b[0m\u001b[0;34m(\u001b[0m\u001b[0mnew_data\u001b[0m\u001b[0;34m)\u001b[0m\u001b[0;34m.\u001b[0m\u001b[0m__finalize__\u001b[0m\u001b[0;34m(\u001b[0m\u001b[0mself\u001b[0m\u001b[0;34m,\u001b[0m \u001b[0mmethod\u001b[0m\u001b[0;34m=\u001b[0m\u001b[0;34m\"astype\"\u001b[0m\u001b[0;34m)\u001b[0m\u001b[0;34m\u001b[0m\u001b[0;34m\u001b[0m\u001b[0m\n\u001b[1;32m   5808\u001b[0m \u001b[0;34m\u001b[0m\u001b[0m\n",
      "\u001b[0;32m~/miniconda3/envs/sds2021/lib/python3.9/site-packages/pandas/core/internals/managers.py\u001b[0m in \u001b[0;36mastype\u001b[0;34m(self, dtype, copy, errors)\u001b[0m\n\u001b[1;32m    412\u001b[0m \u001b[0;34m\u001b[0m\u001b[0m\n\u001b[1;32m    413\u001b[0m     \u001b[0;32mdef\u001b[0m \u001b[0mastype\u001b[0m\u001b[0;34m(\u001b[0m\u001b[0mself\u001b[0m\u001b[0;34m:\u001b[0m \u001b[0mT\u001b[0m\u001b[0;34m,\u001b[0m \u001b[0mdtype\u001b[0m\u001b[0;34m,\u001b[0m \u001b[0mcopy\u001b[0m\u001b[0;34m:\u001b[0m \u001b[0mbool\u001b[0m \u001b[0;34m=\u001b[0m \u001b[0;32mFalse\u001b[0m\u001b[0;34m,\u001b[0m \u001b[0merrors\u001b[0m\u001b[0;34m:\u001b[0m \u001b[0mstr\u001b[0m \u001b[0;34m=\u001b[0m \u001b[0;34m\"raise\"\u001b[0m\u001b[0;34m)\u001b[0m \u001b[0;34m->\u001b[0m \u001b[0mT\u001b[0m\u001b[0;34m:\u001b[0m\u001b[0;34m\u001b[0m\u001b[0;34m\u001b[0m\u001b[0m\n\u001b[0;32m--> 414\u001b[0;31m         \u001b[0;32mreturn\u001b[0m \u001b[0mself\u001b[0m\u001b[0;34m.\u001b[0m\u001b[0mapply\u001b[0m\u001b[0;34m(\u001b[0m\u001b[0;34m\"astype\"\u001b[0m\u001b[0;34m,\u001b[0m \u001b[0mdtype\u001b[0m\u001b[0;34m=\u001b[0m\u001b[0mdtype\u001b[0m\u001b[0;34m,\u001b[0m \u001b[0mcopy\u001b[0m\u001b[0;34m=\u001b[0m\u001b[0mcopy\u001b[0m\u001b[0;34m,\u001b[0m \u001b[0merrors\u001b[0m\u001b[0;34m=\u001b[0m\u001b[0merrors\u001b[0m\u001b[0;34m)\u001b[0m\u001b[0;34m\u001b[0m\u001b[0;34m\u001b[0m\u001b[0m\n\u001b[0m\u001b[1;32m    415\u001b[0m \u001b[0;34m\u001b[0m\u001b[0m\n\u001b[1;32m    416\u001b[0m     def convert(\n",
      "\u001b[0;32m~/miniconda3/envs/sds2021/lib/python3.9/site-packages/pandas/core/internals/managers.py\u001b[0m in \u001b[0;36mapply\u001b[0;34m(self, f, align_keys, ignore_failures, **kwargs)\u001b[0m\n\u001b[1;32m    325\u001b[0m                     \u001b[0mapplied\u001b[0m \u001b[0;34m=\u001b[0m \u001b[0mb\u001b[0m\u001b[0;34m.\u001b[0m\u001b[0mapply\u001b[0m\u001b[0;34m(\u001b[0m\u001b[0mf\u001b[0m\u001b[0;34m,\u001b[0m \u001b[0;34m**\u001b[0m\u001b[0mkwargs\u001b[0m\u001b[0;34m)\u001b[0m\u001b[0;34m\u001b[0m\u001b[0;34m\u001b[0m\u001b[0m\n\u001b[1;32m    326\u001b[0m                 \u001b[0;32melse\u001b[0m\u001b[0;34m:\u001b[0m\u001b[0;34m\u001b[0m\u001b[0;34m\u001b[0m\u001b[0m\n\u001b[0;32m--> 327\u001b[0;31m                     \u001b[0mapplied\u001b[0m \u001b[0;34m=\u001b[0m \u001b[0mgetattr\u001b[0m\u001b[0;34m(\u001b[0m\u001b[0mb\u001b[0m\u001b[0;34m,\u001b[0m \u001b[0mf\u001b[0m\u001b[0;34m)\u001b[0m\u001b[0;34m(\u001b[0m\u001b[0;34m**\u001b[0m\u001b[0mkwargs\u001b[0m\u001b[0;34m)\u001b[0m\u001b[0;34m\u001b[0m\u001b[0;34m\u001b[0m\u001b[0m\n\u001b[0m\u001b[1;32m    328\u001b[0m             \u001b[0;32mexcept\u001b[0m \u001b[0;34m(\u001b[0m\u001b[0mTypeError\u001b[0m\u001b[0;34m,\u001b[0m \u001b[0mNotImplementedError\u001b[0m\u001b[0;34m)\u001b[0m\u001b[0;34m:\u001b[0m\u001b[0;34m\u001b[0m\u001b[0;34m\u001b[0m\u001b[0m\n\u001b[1;32m    329\u001b[0m                 \u001b[0;32mif\u001b[0m \u001b[0;32mnot\u001b[0m \u001b[0mignore_failures\u001b[0m\u001b[0;34m:\u001b[0m\u001b[0;34m\u001b[0m\u001b[0;34m\u001b[0m\u001b[0m\n",
      "\u001b[0;32m~/miniconda3/envs/sds2021/lib/python3.9/site-packages/pandas/core/internals/blocks.py\u001b[0m in \u001b[0;36mastype\u001b[0;34m(self, dtype, copy, errors)\u001b[0m\n\u001b[1;32m    590\u001b[0m         \u001b[0mvalues\u001b[0m \u001b[0;34m=\u001b[0m \u001b[0mself\u001b[0m\u001b[0;34m.\u001b[0m\u001b[0mvalues\u001b[0m\u001b[0;34m\u001b[0m\u001b[0;34m\u001b[0m\u001b[0m\n\u001b[1;32m    591\u001b[0m \u001b[0;34m\u001b[0m\u001b[0m\n\u001b[0;32m--> 592\u001b[0;31m         \u001b[0mnew_values\u001b[0m \u001b[0;34m=\u001b[0m \u001b[0mastype_array_safe\u001b[0m\u001b[0;34m(\u001b[0m\u001b[0mvalues\u001b[0m\u001b[0;34m,\u001b[0m \u001b[0mdtype\u001b[0m\u001b[0;34m,\u001b[0m \u001b[0mcopy\u001b[0m\u001b[0;34m=\u001b[0m\u001b[0mcopy\u001b[0m\u001b[0;34m,\u001b[0m \u001b[0merrors\u001b[0m\u001b[0;34m=\u001b[0m\u001b[0merrors\u001b[0m\u001b[0;34m)\u001b[0m\u001b[0;34m\u001b[0m\u001b[0;34m\u001b[0m\u001b[0m\n\u001b[0m\u001b[1;32m    593\u001b[0m \u001b[0;34m\u001b[0m\u001b[0m\n\u001b[1;32m    594\u001b[0m         \u001b[0mnew_values\u001b[0m \u001b[0;34m=\u001b[0m \u001b[0mmaybe_coerce_values\u001b[0m\u001b[0;34m(\u001b[0m\u001b[0mnew_values\u001b[0m\u001b[0;34m)\u001b[0m\u001b[0;34m\u001b[0m\u001b[0;34m\u001b[0m\u001b[0m\n",
      "\u001b[0;32m~/miniconda3/envs/sds2021/lib/python3.9/site-packages/pandas/core/dtypes/cast.py\u001b[0m in \u001b[0;36mastype_array_safe\u001b[0;34m(values, dtype, copy, errors)\u001b[0m\n\u001b[1;32m   1298\u001b[0m \u001b[0;34m\u001b[0m\u001b[0m\n\u001b[1;32m   1299\u001b[0m     \u001b[0;32mtry\u001b[0m\u001b[0;34m:\u001b[0m\u001b[0;34m\u001b[0m\u001b[0;34m\u001b[0m\u001b[0m\n\u001b[0;32m-> 1300\u001b[0;31m         \u001b[0mnew_values\u001b[0m \u001b[0;34m=\u001b[0m \u001b[0mastype_array\u001b[0m\u001b[0;34m(\u001b[0m\u001b[0mvalues\u001b[0m\u001b[0;34m,\u001b[0m \u001b[0mdtype\u001b[0m\u001b[0;34m,\u001b[0m \u001b[0mcopy\u001b[0m\u001b[0;34m=\u001b[0m\u001b[0mcopy\u001b[0m\u001b[0;34m)\u001b[0m\u001b[0;34m\u001b[0m\u001b[0;34m\u001b[0m\u001b[0m\n\u001b[0m\u001b[1;32m   1301\u001b[0m     \u001b[0;32mexcept\u001b[0m \u001b[0;34m(\u001b[0m\u001b[0mValueError\u001b[0m\u001b[0;34m,\u001b[0m \u001b[0mTypeError\u001b[0m\u001b[0;34m)\u001b[0m\u001b[0;34m:\u001b[0m\u001b[0;34m\u001b[0m\u001b[0;34m\u001b[0m\u001b[0m\n\u001b[1;32m   1302\u001b[0m         \u001b[0;31m# e.g. astype_nansafe can fail on object-dtype of strings\u001b[0m\u001b[0;34m\u001b[0m\u001b[0;34m\u001b[0m\u001b[0;34m\u001b[0m\u001b[0m\n",
      "\u001b[0;32m~/miniconda3/envs/sds2021/lib/python3.9/site-packages/pandas/core/dtypes/cast.py\u001b[0m in \u001b[0;36mastype_array\u001b[0;34m(values, dtype, copy)\u001b[0m\n\u001b[1;32m   1246\u001b[0m \u001b[0;34m\u001b[0m\u001b[0m\n\u001b[1;32m   1247\u001b[0m     \u001b[0;32melse\u001b[0m\u001b[0;34m:\u001b[0m\u001b[0;34m\u001b[0m\u001b[0;34m\u001b[0m\u001b[0m\n\u001b[0;32m-> 1248\u001b[0;31m         \u001b[0mvalues\u001b[0m \u001b[0;34m=\u001b[0m \u001b[0mastype_nansafe\u001b[0m\u001b[0;34m(\u001b[0m\u001b[0mvalues\u001b[0m\u001b[0;34m,\u001b[0m \u001b[0mdtype\u001b[0m\u001b[0;34m,\u001b[0m \u001b[0mcopy\u001b[0m\u001b[0;34m=\u001b[0m\u001b[0mcopy\u001b[0m\u001b[0;34m)\u001b[0m\u001b[0;34m\u001b[0m\u001b[0;34m\u001b[0m\u001b[0m\n\u001b[0m\u001b[1;32m   1249\u001b[0m \u001b[0;34m\u001b[0m\u001b[0m\n\u001b[1;32m   1250\u001b[0m     \u001b[0;31m# in pandas we don't store numpy str dtypes, so convert to object\u001b[0m\u001b[0;34m\u001b[0m\u001b[0;34m\u001b[0m\u001b[0;34m\u001b[0m\u001b[0m\n",
      "\u001b[0;32m~/miniconda3/envs/sds2021/lib/python3.9/site-packages/pandas/core/dtypes/cast.py\u001b[0m in \u001b[0;36mastype_nansafe\u001b[0;34m(arr, dtype, copy, skipna)\u001b[0m\n\u001b[1;32m   1190\u001b[0m     \u001b[0;32mif\u001b[0m \u001b[0mcopy\u001b[0m \u001b[0;32mor\u001b[0m \u001b[0mis_object_dtype\u001b[0m\u001b[0;34m(\u001b[0m\u001b[0marr\u001b[0m\u001b[0;34m.\u001b[0m\u001b[0mdtype\u001b[0m\u001b[0;34m)\u001b[0m \u001b[0;32mor\u001b[0m \u001b[0mis_object_dtype\u001b[0m\u001b[0;34m(\u001b[0m\u001b[0mdtype\u001b[0m\u001b[0;34m)\u001b[0m\u001b[0;34m:\u001b[0m\u001b[0;34m\u001b[0m\u001b[0;34m\u001b[0m\u001b[0m\n\u001b[1;32m   1191\u001b[0m         \u001b[0;31m# Explicit copy, or required since NumPy can't view from / to object.\u001b[0m\u001b[0;34m\u001b[0m\u001b[0;34m\u001b[0m\u001b[0;34m\u001b[0m\u001b[0m\n\u001b[0;32m-> 1192\u001b[0;31m         \u001b[0;32mreturn\u001b[0m \u001b[0marr\u001b[0m\u001b[0;34m.\u001b[0m\u001b[0mastype\u001b[0m\u001b[0;34m(\u001b[0m\u001b[0mdtype\u001b[0m\u001b[0;34m,\u001b[0m \u001b[0mcopy\u001b[0m\u001b[0;34m=\u001b[0m\u001b[0;32mTrue\u001b[0m\u001b[0;34m)\u001b[0m\u001b[0;34m\u001b[0m\u001b[0;34m\u001b[0m\u001b[0m\n\u001b[0m\u001b[1;32m   1193\u001b[0m \u001b[0;34m\u001b[0m\u001b[0m\n\u001b[1;32m   1194\u001b[0m     \u001b[0;32mreturn\u001b[0m \u001b[0marr\u001b[0m\u001b[0;34m.\u001b[0m\u001b[0mastype\u001b[0m\u001b[0;34m(\u001b[0m\u001b[0mdtype\u001b[0m\u001b[0;34m,\u001b[0m \u001b[0mcopy\u001b[0m\u001b[0;34m=\u001b[0m\u001b[0mcopy\u001b[0m\u001b[0;34m)\u001b[0m\u001b[0;34m\u001b[0m\u001b[0;34m\u001b[0m\u001b[0m\n",
      "\u001b[0;31mValueError\u001b[0m: could not convert string to float: '1,200.00'"
     ]
    }
   ],
   "source": [
    "for m in money:\n",
    "    print(f\"Converting {m}\")\n",
    "    df[m] = df[m].str.replace('$','').astype('float')"
   ]
  },
  {
   "cell_type": "code",
   "execution_count": 38,
   "metadata": {},
   "outputs": [
    {
     "name": "stdout",
     "output_type": "stream",
     "text": [
      "Converting price\n"
     ]
    },
    {
     "name": "stderr",
     "output_type": "stream",
     "text": [
      "/tmp/ipykernel_517/1928573030.py:3: FutureWarning: The default value of regex will change from True to False in a future version. In addition, single character regular expressions will *not* be treated as literal strings when regex=True.\n",
      "  df[m] = df[m].str.replace('$','').str.replace(',','').astype('float')\n"
     ]
    }
   ],
   "source": [
    "for m in money:\n",
    "    print(f\"Converting {m}\")\n",
    "    df[m] = df[m].str.replace('$','').str.replace(',','').astype('float')"
   ]
  },
  {
   "cell_type": "code",
   "execution_count": 39,
   "metadata": {},
   "outputs": [
    {
     "data": {
      "text/html": [
       "<div>\n",
       "<style scoped>\n",
       "    .dataframe tbody tr th:only-of-type {\n",
       "        vertical-align: middle;\n",
       "    }\n",
       "\n",
       "    .dataframe tbody tr th {\n",
       "        vertical-align: top;\n",
       "    }\n",
       "\n",
       "    .dataframe thead th {\n",
       "        text-align: right;\n",
       "    }\n",
       "</style>\n",
       "<table border=\"1\" class=\"dataframe\">\n",
       "  <thead>\n",
       "    <tr style=\"text-align: right;\">\n",
       "      <th></th>\n",
       "      <th>price</th>\n",
       "    </tr>\n",
       "  </thead>\n",
       "  <tbody>\n",
       "    <tr>\n",
       "      <th>2474</th>\n",
       "      <td>94.0</td>\n",
       "    </tr>\n",
       "    <tr>\n",
       "      <th>4945</th>\n",
       "      <td>59.0</td>\n",
       "    </tr>\n",
       "    <tr>\n",
       "      <th>5753</th>\n",
       "      <td>33.0</td>\n",
       "    </tr>\n",
       "    <tr>\n",
       "      <th>7998</th>\n",
       "      <td>150.0</td>\n",
       "    </tr>\n",
       "    <tr>\n",
       "      <th>1610</th>\n",
       "      <td>19.0</td>\n",
       "    </tr>\n",
       "  </tbody>\n",
       "</table>\n",
       "</div>"
      ],
      "text/plain": [
       "      price\n",
       "2474   94.0\n",
       "4945   59.0\n",
       "5753   33.0\n",
       "7998  150.0\n",
       "1610   19.0"
      ]
     },
     "execution_count": 39,
     "metadata": {},
     "output_type": "execute_result"
    }
   ],
   "source": [
    "df.sample(5, random_state=42)[money]"
   ]
  },
  {
   "cell_type": "markdown",
   "metadata": {},
   "source": [
    "### Task 3.5: Dealing with Integers\n",
    "\n",
    "This is the issue that made me abandon the idea of making you clean the data yourselves. Although _floats_ have no issues with `np.nan` in the Series, by default there are no numpy integer arrays that can cope with NaNs. This was such a major issue for Pandas that they've actually created their _own_ data type that does support NaN values in integer columns. There are a lot of integer columns, but only one of them seems to be a problem."
   ]
  },
  {
   "cell_type": "code",
   "execution_count": 40,
   "metadata": {},
   "outputs": [
    {
     "name": "stdout",
     "output_type": "stream",
     "text": [
      "Converting id\n",
      "Converting host_id\n",
      "Converting host_listings_count\n",
      "Converting host_total_listings_count\n",
      "Converting accommodates\n",
      "Converting beds\n",
      "\tConverting to unsigned 16-bit integer.\n",
      "Converting minimum_nights\n",
      "Converting maximum_nights\n",
      "Converting availability_365\n",
      "Converting calculated_host_listings_count\n"
     ]
    }
   ],
   "source": [
    "ints  = ['id','host_id','host_listings_count','host_total_listings_count','accommodates',\n",
    "         'beds','minimum_nights','maximum_nights','availability_365','calculated_host_listings_count']\n",
    "for i in ints:\n",
    "    print(f\"Converting {i}\")\n",
    "    try:\n",
    "        df[i] = df[i].astype('float').astype('int')\n",
    "    except ValueError as e:\n",
    "        print(\"\\tConverting to unsigned 16-bit integer.\")\n",
    "        df[i] = df[i].astype('float').astype(pd.UInt16Dtype())"
   ]
  },
  {
   "cell_type": "markdown",
   "metadata": {},
   "source": [
    "So we convert the column but using a `try / except` approach that allows to trap `ValueError` exceptions triggered by the presence of NaNs in the column. The following code tells us that there are just eight of these in the 10k sample, but they're enough to cause the code to fail if you don't trap them. The alternatives would be to: a) drop those rows; or b) leave the data as floats. For some reason the latter offends my sense of order, and the former feels like avoiding the problem rather than dealing with it."
   ]
  },
  {
   "cell_type": "code",
   "execution_count": 41,
   "metadata": {},
   "outputs": [
    {
     "data": {
      "text/plain": [
       "False    8180\n",
       "True        8\n",
       "Name: beds, dtype: int64"
      ]
     },
     "execution_count": 41,
     "metadata": {},
     "output_type": "execute_result"
    }
   ],
   "source": [
    "df.beds.isna().value_counts()"
   ]
  },
  {
   "cell_type": "markdown",
   "metadata": {},
   "source": [
    "### Task 3.6: Validation\n",
    "\n",
    "Ordinarily, at this point I would then output information to confirm that all of the opeations I _think_ I've undertaken were correctly applied."
   ]
  },
  {
   "cell_type": "code",
   "execution_count": 42,
   "metadata": {},
   "outputs": [
    {
     "name": "stdout",
     "output_type": "stream",
     "text": [
      "<class 'pandas.core.frame.DataFrame'>\n",
      "Int64Index: 8188 entries, 0 to 9999\n",
      "Data columns (total 37 columns):\n",
      " #   Column                          Non-Null Count  Dtype         \n",
      "---  ------                          --------------  -----         \n",
      " 0   id                              8188 non-null   int64         \n",
      " 1   listing_url                     8188 non-null   object        \n",
      " 2   last_scraped                    8188 non-null   datetime64[ns]\n",
      " 3   name                            8187 non-null   object        \n",
      " 4   description                     8183 non-null   object        \n",
      " 5   host_id                         8188 non-null   int64         \n",
      " 6   host_name                       8188 non-null   object        \n",
      " 7   host_since                      8188 non-null   datetime64[ns]\n",
      " 8   host_location                   8188 non-null   object        \n",
      " 9   host_is_superhost               8188 non-null   bool          \n",
      " 10  host_listings_count             8188 non-null   int64         \n",
      " 11  host_total_listings_count       8188 non-null   int64         \n",
      " 12  host_verifications              8188 non-null   object        \n",
      " 13  latitude                        8188 non-null   float64       \n",
      " 14  longitude                       8188 non-null   float64       \n",
      " 15  property_type                   8188 non-null   category      \n",
      " 16  room_type                       8188 non-null   category      \n",
      " 17  accommodates                    8188 non-null   int64         \n",
      " 18  bathrooms_text                  8156 non-null   object        \n",
      " 19  bedrooms                        7990 non-null   object        \n",
      " 20  beds                            8180 non-null   UInt16        \n",
      " 21  amenities                       8188 non-null   object        \n",
      " 22  price                           8188 non-null   float64       \n",
      " 23  minimum_nights                  8188 non-null   int64         \n",
      " 24  maximum_nights                  8188 non-null   int64         \n",
      " 25  availability_365                8188 non-null   int64         \n",
      " 26  number_of_reviews               8188 non-null   object        \n",
      " 27  first_review                    8188 non-null   datetime64[ns]\n",
      " 28  last_review                     8188 non-null   datetime64[ns]\n",
      " 29  review_scores_rating            8086 non-null   float64       \n",
      " 30  review_scores_cleanliness       8071 non-null   float64       \n",
      " 31  review_scores_checkin           8066 non-null   float64       \n",
      " 32  review_scores_communication     8074 non-null   float64       \n",
      " 33  review_scores_location          8070 non-null   float64       \n",
      " 34  instant_bookable                8188 non-null   bool          \n",
      " 35  calculated_host_listings_count  8188 non-null   int64         \n",
      " 36  reviews_per_month               8188 non-null   float64       \n",
      "dtypes: UInt16(1), bool(2), category(2), datetime64[ns](4), float64(9), int64(9), object(10)\n",
      "memory usage: 2.1+ MB\n"
     ]
    }
   ],
   "source": [
    "df.info()"
   ]
  },
  {
   "cell_type": "code",
   "execution_count": 43,
   "metadata": {},
   "outputs": [
    {
     "data": {
      "text/html": [
       "<div>\n",
       "<style scoped>\n",
       "    .dataframe tbody tr th:only-of-type {\n",
       "        vertical-align: middle;\n",
       "    }\n",
       "\n",
       "    .dataframe tbody tr th {\n",
       "        vertical-align: top;\n",
       "    }\n",
       "\n",
       "    .dataframe thead th {\n",
       "        text-align: right;\n",
       "    }\n",
       "</style>\n",
       "<table border=\"1\" class=\"dataframe\">\n",
       "  <thead>\n",
       "    <tr style=\"text-align: right;\">\n",
       "      <th></th>\n",
       "      <th>id</th>\n",
       "      <th>host_id</th>\n",
       "      <th>host_listings_count</th>\n",
       "      <th>host_total_listings_count</th>\n",
       "      <th>latitude</th>\n",
       "      <th>longitude</th>\n",
       "      <th>accommodates</th>\n",
       "      <th>beds</th>\n",
       "      <th>price</th>\n",
       "      <th>minimum_nights</th>\n",
       "      <th>maximum_nights</th>\n",
       "      <th>availability_365</th>\n",
       "      <th>review_scores_rating</th>\n",
       "      <th>review_scores_cleanliness</th>\n",
       "      <th>review_scores_checkin</th>\n",
       "      <th>review_scores_communication</th>\n",
       "      <th>review_scores_location</th>\n",
       "      <th>calculated_host_listings_count</th>\n",
       "      <th>reviews_per_month</th>\n",
       "    </tr>\n",
       "  </thead>\n",
       "  <tbody>\n",
       "    <tr>\n",
       "      <th>count</th>\n",
       "      <td>8.188000e+03</td>\n",
       "      <td>8.188000e+03</td>\n",
       "      <td>8188.000000</td>\n",
       "      <td>8188.000000</td>\n",
       "      <td>8188.000000</td>\n",
       "      <td>8188.000000</td>\n",
       "      <td>8188.000000</td>\n",
       "      <td>8180.000000</td>\n",
       "      <td>8188.000000</td>\n",
       "      <td>8188.000000</td>\n",
       "      <td>8.188000e+03</td>\n",
       "      <td>8188.000000</td>\n",
       "      <td>8086.000000</td>\n",
       "      <td>8071.000000</td>\n",
       "      <td>8066.000000</td>\n",
       "      <td>8074.000000</td>\n",
       "      <td>8070.000000</td>\n",
       "      <td>8188.000000</td>\n",
       "      <td>8188.000000</td>\n",
       "    </tr>\n",
       "    <tr>\n",
       "      <th>mean</th>\n",
       "      <td>4.142927e+06</td>\n",
       "      <td>1.404152e+07</td>\n",
       "      <td>4.190767</td>\n",
       "      <td>4.190767</td>\n",
       "      <td>51.511304</td>\n",
       "      <td>-0.128860</td>\n",
       "      <td>3.019541</td>\n",
       "      <td>1.669560</td>\n",
       "      <td>99.174228</td>\n",
       "      <td>5.856131</td>\n",
       "      <td>1.868951e+05</td>\n",
       "      <td>153.812897</td>\n",
       "      <td>93.681177</td>\n",
       "      <td>9.327221</td>\n",
       "      <td>9.754029</td>\n",
       "      <td>9.786599</td>\n",
       "      <td>9.504337</td>\n",
       "      <td>3.681119</td>\n",
       "      <td>0.686817</td>\n",
       "    </tr>\n",
       "    <tr>\n",
       "      <th>std</th>\n",
       "      <td>2.557183e+06</td>\n",
       "      <td>1.461524e+07</td>\n",
       "      <td>27.119571</td>\n",
       "      <td>27.119571</td>\n",
       "      <td>0.045438</td>\n",
       "      <td>0.085355</td>\n",
       "      <td>1.889357</td>\n",
       "      <td>1.278631</td>\n",
       "      <td>116.162275</td>\n",
       "      <td>26.121070</td>\n",
       "      <td>1.248029e+07</td>\n",
       "      <td>154.486426</td>\n",
       "      <td>7.212115</td>\n",
       "      <td>0.978506</td>\n",
       "      <td>0.611523</td>\n",
       "      <td>0.582510</td>\n",
       "      <td>0.730965</td>\n",
       "      <td>18.989967</td>\n",
       "      <td>0.953299</td>\n",
       "    </tr>\n",
       "    <tr>\n",
       "      <th>min</th>\n",
       "      <td>1.155100e+04</td>\n",
       "      <td>6.821000e+03</td>\n",
       "      <td>0.000000</td>\n",
       "      <td>0.000000</td>\n",
       "      <td>51.297330</td>\n",
       "      <td>-0.479620</td>\n",
       "      <td>1.000000</td>\n",
       "      <td>0.000000</td>\n",
       "      <td>12.000000</td>\n",
       "      <td>1.000000</td>\n",
       "      <td>1.000000e+00</td>\n",
       "      <td>0.000000</td>\n",
       "      <td>20.000000</td>\n",
       "      <td>2.000000</td>\n",
       "      <td>2.000000</td>\n",
       "      <td>2.000000</td>\n",
       "      <td>2.000000</td>\n",
       "      <td>1.000000</td>\n",
       "      <td>0.010000</td>\n",
       "    </tr>\n",
       "    <tr>\n",
       "      <th>25%</th>\n",
       "      <td>1.723468e+06</td>\n",
       "      <td>2.990243e+06</td>\n",
       "      <td>1.000000</td>\n",
       "      <td>1.000000</td>\n",
       "      <td>51.482940</td>\n",
       "      <td>-0.189820</td>\n",
       "      <td>2.000000</td>\n",
       "      <td>1.000000</td>\n",
       "      <td>45.000000</td>\n",
       "      <td>2.000000</td>\n",
       "      <td>4.000000e+01</td>\n",
       "      <td>0.000000</td>\n",
       "      <td>91.000000</td>\n",
       "      <td>9.000000</td>\n",
       "      <td>10.000000</td>\n",
       "      <td>10.000000</td>\n",
       "      <td>9.000000</td>\n",
       "      <td>1.000000</td>\n",
       "      <td>0.100000</td>\n",
       "    </tr>\n",
       "    <tr>\n",
       "      <th>50%</th>\n",
       "      <td>4.216613e+06</td>\n",
       "      <td>9.513450e+06</td>\n",
       "      <td>1.000000</td>\n",
       "      <td>1.000000</td>\n",
       "      <td>51.516650</td>\n",
       "      <td>-0.120560</td>\n",
       "      <td>2.000000</td>\n",
       "      <td>1.000000</td>\n",
       "      <td>75.000000</td>\n",
       "      <td>2.000000</td>\n",
       "      <td>1.125000e+03</td>\n",
       "      <td>90.000000</td>\n",
       "      <td>96.000000</td>\n",
       "      <td>10.000000</td>\n",
       "      <td>10.000000</td>\n",
       "      <td>10.000000</td>\n",
       "      <td>10.000000</td>\n",
       "      <td>1.000000</td>\n",
       "      <td>0.340000</td>\n",
       "    </tr>\n",
       "    <tr>\n",
       "      <th>75%</th>\n",
       "      <td>6.519377e+06</td>\n",
       "      <td>2.227435e+07</td>\n",
       "      <td>2.000000</td>\n",
       "      <td>2.000000</td>\n",
       "      <td>51.542040</td>\n",
       "      <td>-0.071517</td>\n",
       "      <td>4.000000</td>\n",
       "      <td>2.000000</td>\n",
       "      <td>120.000000</td>\n",
       "      <td>4.000000</td>\n",
       "      <td>1.125000e+03</td>\n",
       "      <td>340.000000</td>\n",
       "      <td>98.000000</td>\n",
       "      <td>10.000000</td>\n",
       "      <td>10.000000</td>\n",
       "      <td>10.000000</td>\n",
       "      <td>10.000000</td>\n",
       "      <td>2.000000</td>\n",
       "      <td>0.880000</td>\n",
       "    </tr>\n",
       "    <tr>\n",
       "      <th>max</th>\n",
       "      <td>8.333186e+06</td>\n",
       "      <td>3.040751e+08</td>\n",
       "      <td>1111.000000</td>\n",
       "      <td>1111.000000</td>\n",
       "      <td>51.671870</td>\n",
       "      <td>0.238150</td>\n",
       "      <td>16.000000</td>\n",
       "      <td>16.000000</td>\n",
       "      <td>3324.000000</td>\n",
       "      <td>1000.000000</td>\n",
       "      <td>1.000000e+09</td>\n",
       "      <td>365.000000</td>\n",
       "      <td>100.000000</td>\n",
       "      <td>10.000000</td>\n",
       "      <td>10.000000</td>\n",
       "      <td>10.000000</td>\n",
       "      <td>10.000000</td>\n",
       "      <td>718.000000</td>\n",
       "      <td>15.170000</td>\n",
       "    </tr>\n",
       "  </tbody>\n",
       "</table>\n",
       "</div>"
      ],
      "text/plain": [
       "                 id       host_id  host_listings_count  \\\n",
       "count  8.188000e+03  8.188000e+03          8188.000000   \n",
       "mean   4.142927e+06  1.404152e+07             4.190767   \n",
       "std    2.557183e+06  1.461524e+07            27.119571   \n",
       "min    1.155100e+04  6.821000e+03             0.000000   \n",
       "25%    1.723468e+06  2.990243e+06             1.000000   \n",
       "50%    4.216613e+06  9.513450e+06             1.000000   \n",
       "75%    6.519377e+06  2.227435e+07             2.000000   \n",
       "max    8.333186e+06  3.040751e+08          1111.000000   \n",
       "\n",
       "       host_total_listings_count     latitude    longitude  accommodates  \\\n",
       "count                8188.000000  8188.000000  8188.000000   8188.000000   \n",
       "mean                    4.190767    51.511304    -0.128860      3.019541   \n",
       "std                    27.119571     0.045438     0.085355      1.889357   \n",
       "min                     0.000000    51.297330    -0.479620      1.000000   \n",
       "25%                     1.000000    51.482940    -0.189820      2.000000   \n",
       "50%                     1.000000    51.516650    -0.120560      2.000000   \n",
       "75%                     2.000000    51.542040    -0.071517      4.000000   \n",
       "max                  1111.000000    51.671870     0.238150     16.000000   \n",
       "\n",
       "              beds        price  minimum_nights  maximum_nights  \\\n",
       "count  8180.000000  8188.000000     8188.000000    8.188000e+03   \n",
       "mean      1.669560    99.174228        5.856131    1.868951e+05   \n",
       "std       1.278631   116.162275       26.121070    1.248029e+07   \n",
       "min       0.000000    12.000000        1.000000    1.000000e+00   \n",
       "25%       1.000000    45.000000        2.000000    4.000000e+01   \n",
       "50%       1.000000    75.000000        2.000000    1.125000e+03   \n",
       "75%       2.000000   120.000000        4.000000    1.125000e+03   \n",
       "max      16.000000  3324.000000     1000.000000    1.000000e+09   \n",
       "\n",
       "       availability_365  review_scores_rating  review_scores_cleanliness  \\\n",
       "count       8188.000000           8086.000000                8071.000000   \n",
       "mean         153.812897             93.681177                   9.327221   \n",
       "std          154.486426              7.212115                   0.978506   \n",
       "min            0.000000             20.000000                   2.000000   \n",
       "25%            0.000000             91.000000                   9.000000   \n",
       "50%           90.000000             96.000000                  10.000000   \n",
       "75%          340.000000             98.000000                  10.000000   \n",
       "max          365.000000            100.000000                  10.000000   \n",
       "\n",
       "       review_scores_checkin  review_scores_communication  \\\n",
       "count            8066.000000                  8074.000000   \n",
       "mean                9.754029                     9.786599   \n",
       "std                 0.611523                     0.582510   \n",
       "min                 2.000000                     2.000000   \n",
       "25%                10.000000                    10.000000   \n",
       "50%                10.000000                    10.000000   \n",
       "75%                10.000000                    10.000000   \n",
       "max                10.000000                    10.000000   \n",
       "\n",
       "       review_scores_location  calculated_host_listings_count  \\\n",
       "count             8070.000000                     8188.000000   \n",
       "mean                 9.504337                        3.681119   \n",
       "std                  0.730965                       18.989967   \n",
       "min                  2.000000                        1.000000   \n",
       "25%                  9.000000                        1.000000   \n",
       "50%                 10.000000                        1.000000   \n",
       "75%                 10.000000                        2.000000   \n",
       "max                 10.000000                      718.000000   \n",
       "\n",
       "       reviews_per_month  \n",
       "count        8188.000000  \n",
       "mean            0.686817  \n",
       "std             0.953299  \n",
       "min             0.010000  \n",
       "25%             0.100000  \n",
       "50%             0.340000  \n",
       "75%             0.880000  \n",
       "max            15.170000  "
      ]
     },
     "execution_count": 43,
     "metadata": {},
     "output_type": "execute_result"
    }
   ],
   "source": [
    "df.describe()"
   ]
  },
  {
   "cell_type": "markdown",
   "metadata": {},
   "source": [
    "That's a bit faster than trying to calculate all these summary stats in Excel, right? \n",
    "\n",
    "Just by calling `describe()`...\n",
    "1. We've asked Python to describe the `DataFrame` and it has returned a set of columns (actually, it's `DataFrame` itself as we'll see below) with descriptive metrics for each.\n",
    "2. Note what is _missing_ from this list: can you think why some columns weren't reported in the descriptives?\n",
    "\n",
    "As you work through the description code below, you may want to refer back to the shape and contents of the `DataFrame` above..."
   ]
  },
  {
   "cell_type": "markdown",
   "metadata": {},
   "source": [
    "And we don’t just have to settle for the standard descriptive statistics the `describe()` method [gives us](http://pandas.pydata.org/pandas-docs/stable/generated/pandas.DataFrame.describe.html). We can also specify particular percentiles of the data that we would like to view. This is done using the `percentiles` argument. For example to get the 1st and 99th percentiles we would use:"
   ]
  },
  {
   "cell_type": "code",
   "execution_count": 44,
   "metadata": {},
   "outputs": [
    {
     "data": {
      "text/html": [
       "<div>\n",
       "<style scoped>\n",
       "    .dataframe tbody tr th:only-of-type {\n",
       "        vertical-align: middle;\n",
       "    }\n",
       "\n",
       "    .dataframe tbody tr th {\n",
       "        vertical-align: top;\n",
       "    }\n",
       "\n",
       "    .dataframe thead th {\n",
       "        text-align: right;\n",
       "    }\n",
       "</style>\n",
       "<table border=\"1\" class=\"dataframe\">\n",
       "  <thead>\n",
       "    <tr style=\"text-align: right;\">\n",
       "      <th></th>\n",
       "      <th>price</th>\n",
       "      <th>longitude</th>\n",
       "      <th>latitude</th>\n",
       "    </tr>\n",
       "  </thead>\n",
       "  <tbody>\n",
       "    <tr>\n",
       "      <th>count</th>\n",
       "      <td>8188.000000</td>\n",
       "      <td>8188.000000</td>\n",
       "      <td>8188.000000</td>\n",
       "    </tr>\n",
       "    <tr>\n",
       "      <th>mean</th>\n",
       "      <td>99.174228</td>\n",
       "      <td>-0.128860</td>\n",
       "      <td>51.511304</td>\n",
       "    </tr>\n",
       "    <tr>\n",
       "      <th>std</th>\n",
       "      <td>116.162275</td>\n",
       "      <td>0.085355</td>\n",
       "      <td>0.045438</td>\n",
       "    </tr>\n",
       "    <tr>\n",
       "      <th>min</th>\n",
       "      <td>12.000000</td>\n",
       "      <td>-0.479620</td>\n",
       "      <td>51.297330</td>\n",
       "    </tr>\n",
       "    <tr>\n",
       "      <th>20%</th>\n",
       "      <td>40.000000</td>\n",
       "      <td>-0.199802</td>\n",
       "      <td>51.474242</td>\n",
       "    </tr>\n",
       "    <tr>\n",
       "      <th>50%</th>\n",
       "      <td>75.000000</td>\n",
       "      <td>-0.120560</td>\n",
       "      <td>51.516650</td>\n",
       "    </tr>\n",
       "    <tr>\n",
       "      <th>80%</th>\n",
       "      <td>132.000000</td>\n",
       "      <td>-0.062590</td>\n",
       "      <td>51.547546</td>\n",
       "    </tr>\n",
       "    <tr>\n",
       "      <th>max</th>\n",
       "      <td>3324.000000</td>\n",
       "      <td>0.238150</td>\n",
       "      <td>51.671870</td>\n",
       "    </tr>\n",
       "  </tbody>\n",
       "</table>\n",
       "</div>"
      ],
      "text/plain": [
       "             price    longitude     latitude\n",
       "count  8188.000000  8188.000000  8188.000000\n",
       "mean     99.174228    -0.128860    51.511304\n",
       "std     116.162275     0.085355     0.045438\n",
       "min      12.000000    -0.479620    51.297330\n",
       "20%      40.000000    -0.199802    51.474242\n",
       "50%      75.000000    -0.120560    51.516650\n",
       "80%     132.000000    -0.062590    51.547546\n",
       "max    3324.000000     0.238150    51.671870"
      ]
     },
     "execution_count": 44,
     "metadata": {},
     "output_type": "execute_result"
    }
   ],
   "source": [
    "df[['price','longitude','latitude']].describe(percentiles=[0.20, 0.80])"
   ]
  },
  {
   "cell_type": "code",
   "execution_count": 45,
   "metadata": {},
   "outputs": [
    {
     "name": "stdout",
     "output_type": "stream",
     "text": [
      "The mean price is 99.17\n",
      "The median price is 75.00\n"
     ]
    }
   ],
   "source": [
    "print(f\"The mean price is {df.price.mean():0.2f}\")\n",
    "print(f\"The median price is {df.price.median():0.2f}\")"
   ]
  },
  {
   "cell_type": "markdown",
   "metadata": {},
   "source": [
    "You might want to have a [look at the documentation](http://pandas.pydata.org/pandas-docs/stable/api.html#series): it's rather a long list, but most of your descriptive stats are on that page in the [Cumulative / Descriptive Stats](http://pandas.pydata.org/pandas-docs/stable/api.html#computations-descriptive-stats) section, and there's also lots of information about methods for [strings](http://pandas.pydata.org/pandas-docs/stable/api.html#string-handling) and [categorical data](http://pandas.pydata.org/pandas-docs/stable/api.html#categorical)."
   ]
  },
  {
   "cell_type": "markdown",
   "metadata": {},
   "source": [
    "### Task 3.7: Saving\n",
    "\n",
    "At this point I would save a copy of the cleaned data. And I would only consider this data _partially_ cleaned since we've not made it any further than just ensuring that each column is in an appropriate format and that some particularly problematic rows have been dropped!"
   ]
  },
  {
   "cell_type": "code",
   "execution_count": 46,
   "metadata": {},
   "outputs": [
    {
     "name": "stdout",
     "output_type": "stream",
     "text": [
      "Creating data/clean under /home/shiraozhang/Documents/CASA/Modules/fsds/i2p\n",
      "Done.\n"
     ]
    }
   ],
   "source": [
    "path = os.path.join('data','clean')\n",
    "\n",
    "if not os.path.exists(path):\n",
    "    print(f\"Creating {path} under {os.getcwd()}\")\n",
    "    os.makedirs(path)\n",
    "    \n",
    "df.to_csv(os.path.join(path,fn), index=False)\n",
    "print(\"Done.\")"
   ]
  },
  {
   "cell_type": "markdown",
   "metadata": {},
   "source": [
    "For the 10k sample, I get that we've reduced the working file size from 44MB to 3.1MB. So this data will be a _lot_ faster to work with for exploratory purposes."
   ]
  },
  {
   "cell_type": "markdown",
   "metadata": {},
   "source": [
    "## Task 4. Selection using Criteria\n",
    "\n",
    "So far we've been taking primarily a row and column view of the data, now we want to think about selecting ranges from within the data set..."
   ]
  },
  {
   "cell_type": "markdown",
   "metadata": {},
   "source": [
    "### Task 4.1: Selecting using Conditions\n",
    "\n",
    "For example, what if we wanted to find whole homes listings for more than $100/night? \n",
    "\n",
    "To do this we use a combination of the selection approaches above in combination with conditionals, but first we need to see what sort of properties there are in the data set! `groupby` is a really useful function that we'll come back to later in the term, but for now notice that it helps us to group the analysis by `room_type` so that subsequently asking for the `property_type` value counts allows the same `property_type` to appear in more than once place if it's associated with more than one `room_type`."
   ]
  },
  {
   "cell_type": "code",
   "execution_count": 47,
   "metadata": {},
   "outputs": [
    {
     "data": {
      "text/plain": [
       "room_type                                         \n",
       "Entire home/apt  Entire apartment                     3460\n",
       "                 Entire house                          575\n",
       "                 Entire townhouse                      163\n",
       "                 Entire loft                            79\n",
       "                 Entire condominium                     44\n",
       "                                                      ... \n",
       "Shared room      Private room in apartment               0\n",
       "                 Private room in bed and breakfast       0\n",
       "                 Private room in boat                    0\n",
       "                 Private room in bungalow                0\n",
       "                 Yurt                                    0\n",
       "Name: property_type, Length: 188, dtype: int64"
      ]
     },
     "execution_count": 47,
     "metadata": {},
     "output_type": "execute_result"
    }
   ],
   "source": [
    "df.groupby('room_type')['property_type'].value_counts()"
   ]
  },
  {
   "cell_type": "markdown",
   "metadata": {},
   "source": [
    "So I would take `Entire home/apt` as the right value to filter on _together with_ the price per night from the `price` column.  Why don't we set 'pricey' listings to Entire Home/Apartment listings costing more than $100/night (_note_: this is totally arbitrary)?"
   ]
  },
  {
   "cell_type": "code",
   "execution_count": 48,
   "metadata": {},
   "outputs": [],
   "source": [
    "pricey = df[(df.room_type=='Entire home/apt') & (df.price>100)]"
   ]
  },
  {
   "cell_type": "code",
   "execution_count": 49,
   "metadata": {},
   "outputs": [
    {
     "name": "stdout",
     "output_type": "stream",
     "text": [
      "Selected 2397 rows\n"
     ]
    }
   ],
   "source": [
    "print(f\"Selected {pricey.shape[0]} rows\")"
   ]
  },
  {
   "cell_type": "markdown",
   "metadata": {},
   "source": [
    "You should get: `Selected 2397 rows`."
   ]
  },
  {
   "cell_type": "markdown",
   "metadata": {},
   "source": [
    "### Task 4.2: Finding maxima and minima\n",
    "\n",
    "Let's find the cheapest and most expensive listings using `min` and `max` methods:"
   ]
  },
  {
   "cell_type": "code",
   "execution_count": 50,
   "metadata": {},
   "outputs": [
    {
     "data": {
      "text/html": [
       "<div>\n",
       "<style scoped>\n",
       "    .dataframe tbody tr th:only-of-type {\n",
       "        vertical-align: middle;\n",
       "    }\n",
       "\n",
       "    .dataframe tbody tr th {\n",
       "        vertical-align: top;\n",
       "    }\n",
       "\n",
       "    .dataframe thead th {\n",
       "        text-align: right;\n",
       "    }\n",
       "</style>\n",
       "<table border=\"1\" class=\"dataframe\">\n",
       "  <thead>\n",
       "    <tr style=\"text-align: right;\">\n",
       "      <th></th>\n",
       "      <th>price</th>\n",
       "      <th>id</th>\n",
       "      <th>listing_url</th>\n",
       "      <th>room_type</th>\n",
       "      <th>description</th>\n",
       "    </tr>\n",
       "  </thead>\n",
       "  <tbody>\n",
       "    <tr>\n",
       "      <th>491</th>\n",
       "      <td>12.0</td>\n",
       "      <td>388700</td>\n",
       "      <td>https://www.airbnb.com/rooms/388700</td>\n",
       "      <td>Private room</td>\n",
       "      <td>A bright room in a 1940's apartment block in M...</td>\n",
       "    </tr>\n",
       "    <tr>\n",
       "      <th>9528</th>\n",
       "      <td>12.0</td>\n",
       "      <td>7930974</td>\n",
       "      <td>https://www.airbnb.com/rooms/7930974</td>\n",
       "      <td>Shared room</td>\n",
       "      <td>1 single bed, Bedroom, shared bathroom and kit...</td>\n",
       "    </tr>\n",
       "  </tbody>\n",
       "</table>\n",
       "</div>"
      ],
      "text/plain": [
       "      price       id                           listing_url     room_type  \\\n",
       "491    12.0   388700   https://www.airbnb.com/rooms/388700  Private room   \n",
       "9528   12.0  7930974  https://www.airbnb.com/rooms/7930974   Shared room   \n",
       "\n",
       "                                            description  \n",
       "491   A bright room in a 1940's apartment block in M...  \n",
       "9528  1 single bed, Bedroom, shared bathroom and kit...  "
      ]
     },
     "execution_count": 50,
     "metadata": {},
     "output_type": "execute_result"
    }
   ],
   "source": [
    "df[df.price==df.price.min()][['price','id','listing_url','room_type','description']]"
   ]
  },
  {
   "cell_type": "markdown",
   "metadata": {},
   "source": [
    "You should get rows **491** and **9528** priced at $12/night!"
   ]
  },
  {
   "cell_type": "code",
   "execution_count": 51,
   "metadata": {},
   "outputs": [
    {
     "data": {
      "text/html": [
       "<div>\n",
       "<style scoped>\n",
       "    .dataframe tbody tr th:only-of-type {\n",
       "        vertical-align: middle;\n",
       "    }\n",
       "\n",
       "    .dataframe tbody tr th {\n",
       "        vertical-align: top;\n",
       "    }\n",
       "\n",
       "    .dataframe thead th {\n",
       "        text-align: right;\n",
       "    }\n",
       "</style>\n",
       "<table border=\"1\" class=\"dataframe\">\n",
       "  <thead>\n",
       "    <tr style=\"text-align: right;\">\n",
       "      <th></th>\n",
       "      <th>price</th>\n",
       "      <th>id</th>\n",
       "      <th>listing_url</th>\n",
       "      <th>room_type</th>\n",
       "      <th>description</th>\n",
       "    </tr>\n",
       "  </thead>\n",
       "  <tbody>\n",
       "    <tr>\n",
       "      <th>4763</th>\n",
       "      <td>3324.0</td>\n",
       "      <td>4246984</td>\n",
       "      <td>https://www.airbnb.com/rooms/4246984</td>\n",
       "      <td>Entire home/apt</td>\n",
       "      <td>Spacious living room with separate, fully equi...</td>\n",
       "    </tr>\n",
       "  </tbody>\n",
       "</table>\n",
       "</div>"
      ],
      "text/plain": [
       "       price       id                           listing_url        room_type  \\\n",
       "4763  3324.0  4246984  https://www.airbnb.com/rooms/4246984  Entire home/apt   \n",
       "\n",
       "                                            description  \n",
       "4763  Spacious living room with separate, fully equi...  "
      ]
     },
     "execution_count": 51,
     "metadata": {},
     "output_type": "execute_result"
    }
   ],
   "source": [
    "df[df.price==df.price.max()][['price','id','listing_url','room_type','description']]"
   ]
  },
  {
   "cell_type": "markdown",
   "metadata": {},
   "source": [
    "You should get row **4763** priced at $3,324.00/night! \n",
    "\n",
    "<div style=\"border: dotted 1px red; padding: 10px; margin: 5px; background-color: rgb(255,249,249);\">However, you might want to take this with a very large grain of salt. I can't access this listing any more, and having selected a couple of random dates stumbled across this 'steal': <a href=\"https://www.airbnb.co.uk/rooms/36162621\">airbnb.co.uk/rooms/36162621</a>. I'm not convinced they're really trying to let a room at &#163;2,800/night, are you?</div>"
   ]
  },
  {
   "cell_type": "markdown",
   "metadata": {},
   "source": [
    "### Task 4.3: Finding a Range\n",
    "\n",
    "Perhaps we aren't just looking for extremes... how about all of the properties falling within the middle of the distribution? We can ask for any abitrary quantile we like, so let's go with the 25th and 75th percentile to get the middle 50% of the data. Google how to get percentiles from pandas."
   ]
  },
  {
   "cell_type": "code",
   "execution_count": 52,
   "metadata": {},
   "outputs": [
    {
     "name": "stdout",
     "output_type": "stream",
     "text": [
      "Rows: 3953\n",
      "Lower Quartile:  45.14\n",
      "Upper Quartile: 119.00\n"
     ]
    },
    {
     "data": {
      "text/html": [
       "<div>\n",
       "<style scoped>\n",
       "    .dataframe tbody tr th:only-of-type {\n",
       "        vertical-align: middle;\n",
       "    }\n",
       "\n",
       "    .dataframe tbody tr th {\n",
       "        vertical-align: top;\n",
       "    }\n",
       "\n",
       "    .dataframe thead th {\n",
       "        text-align: right;\n",
       "    }\n",
       "</style>\n",
       "<table border=\"1\" class=\"dataframe\">\n",
       "  <thead>\n",
       "    <tr style=\"text-align: right;\">\n",
       "      <th></th>\n",
       "      <th>id</th>\n",
       "      <th>listing_url</th>\n",
       "      <th>last_scraped</th>\n",
       "      <th>name</th>\n",
       "      <th>description</th>\n",
       "      <th>host_id</th>\n",
       "      <th>host_name</th>\n",
       "      <th>host_since</th>\n",
       "      <th>host_location</th>\n",
       "      <th>host_is_superhost</th>\n",
       "      <th>...</th>\n",
       "      <th>first_review</th>\n",
       "      <th>last_review</th>\n",
       "      <th>review_scores_rating</th>\n",
       "      <th>review_scores_cleanliness</th>\n",
       "      <th>review_scores_checkin</th>\n",
       "      <th>review_scores_communication</th>\n",
       "      <th>review_scores_location</th>\n",
       "      <th>instant_bookable</th>\n",
       "      <th>calculated_host_listings_count</th>\n",
       "      <th>reviews_per_month</th>\n",
       "    </tr>\n",
       "  </thead>\n",
       "  <tbody>\n",
       "    <tr>\n",
       "      <th>0</th>\n",
       "      <td>11551</td>\n",
       "      <td>https://www.airbnb.com/rooms/11551</td>\n",
       "      <td>2020-08-26</td>\n",
       "      <td>Arty and Bright London Apartment in Zone 2</td>\n",
       "      <td>Unlike most rental apartments out there my fla...</td>\n",
       "      <td>43039</td>\n",
       "      <td>Adriano</td>\n",
       "      <td>2009-10-03</td>\n",
       "      <td>London, England, United Kingdom</td>\n",
       "      <td>False</td>\n",
       "      <td>...</td>\n",
       "      <td>2010-03-21</td>\n",
       "      <td>2020-03-26</td>\n",
       "      <td>91.0</td>\n",
       "      <td>9.0</td>\n",
       "      <td>10.0</td>\n",
       "      <td>10.0</td>\n",
       "      <td>9.0</td>\n",
       "      <td>True</td>\n",
       "      <td>2</td>\n",
       "      <td>1.51</td>\n",
       "    </tr>\n",
       "    <tr>\n",
       "      <th>1</th>\n",
       "      <td>13913</td>\n",
       "      <td>https://www.airbnb.com/rooms/13913</td>\n",
       "      <td>2020-08-27</td>\n",
       "      <td>Holiday London DB Room Let-on going</td>\n",
       "      <td>My bright double bedroom with a large window h...</td>\n",
       "      <td>54730</td>\n",
       "      <td>Alina</td>\n",
       "      <td>2009-11-16</td>\n",
       "      <td>London, England, United Kingdom</td>\n",
       "      <td>False</td>\n",
       "      <td>...</td>\n",
       "      <td>2010-08-18</td>\n",
       "      <td>2020-02-22</td>\n",
       "      <td>97.0</td>\n",
       "      <td>10.0</td>\n",
       "      <td>10.0</td>\n",
       "      <td>10.0</td>\n",
       "      <td>9.0</td>\n",
       "      <td>False</td>\n",
       "      <td>3</td>\n",
       "      <td>0.17</td>\n",
       "    </tr>\n",
       "    <tr>\n",
       "      <th>2</th>\n",
       "      <td>15400</td>\n",
       "      <td>https://www.airbnb.com/rooms/15400</td>\n",
       "      <td>2020-08-26</td>\n",
       "      <td>Bright Chelsea  Apartment. Chelsea!</td>\n",
       "      <td>Lots of windows and light.  St Luke's Gardens ...</td>\n",
       "      <td>60302</td>\n",
       "      <td>Philippa</td>\n",
       "      <td>2009-12-05</td>\n",
       "      <td>Kensington, England, United Kingdom</td>\n",
       "      <td>False</td>\n",
       "      <td>...</td>\n",
       "      <td>2009-12-21</td>\n",
       "      <td>2020-03-16</td>\n",
       "      <td>96.0</td>\n",
       "      <td>10.0</td>\n",
       "      <td>10.0</td>\n",
       "      <td>10.0</td>\n",
       "      <td>10.0</td>\n",
       "      <td>True</td>\n",
       "      <td>1</td>\n",
       "      <td>0.68</td>\n",
       "    </tr>\n",
       "  </tbody>\n",
       "</table>\n",
       "<p>3 rows × 37 columns</p>\n",
       "</div>"
      ],
      "text/plain": [
       "      id                         listing_url last_scraped  \\\n",
       "0  11551  https://www.airbnb.com/rooms/11551   2020-08-26   \n",
       "1  13913  https://www.airbnb.com/rooms/13913   2020-08-27   \n",
       "2  15400  https://www.airbnb.com/rooms/15400   2020-08-26   \n",
       "\n",
       "                                         name  \\\n",
       "0  Arty and Bright London Apartment in Zone 2   \n",
       "1         Holiday London DB Room Let-on going   \n",
       "2         Bright Chelsea  Apartment. Chelsea!   \n",
       "\n",
       "                                         description  host_id host_name  \\\n",
       "0  Unlike most rental apartments out there my fla...    43039   Adriano   \n",
       "1  My bright double bedroom with a large window h...    54730     Alina   \n",
       "2  Lots of windows and light.  St Luke's Gardens ...    60302  Philippa   \n",
       "\n",
       "  host_since                        host_location  host_is_superhost  ...  \\\n",
       "0 2009-10-03      London, England, United Kingdom              False  ...   \n",
       "1 2009-11-16      London, England, United Kingdom              False  ...   \n",
       "2 2009-12-05  Kensington, England, United Kingdom              False  ...   \n",
       "\n",
       "   first_review  last_review review_scores_rating  review_scores_cleanliness  \\\n",
       "0    2010-03-21   2020-03-26                 91.0                        9.0   \n",
       "1    2010-08-18   2020-02-22                 97.0                       10.0   \n",
       "2    2009-12-21   2020-03-16                 96.0                       10.0   \n",
       "\n",
       "   review_scores_checkin review_scores_communication review_scores_location  \\\n",
       "0                   10.0                        10.0                    9.0   \n",
       "1                   10.0                        10.0                    9.0   \n",
       "2                   10.0                        10.0                   10.0   \n",
       "\n",
       "   instant_bookable calculated_host_listings_count reviews_per_month  \n",
       "0              True                              2              1.51  \n",
       "1             False                              3              0.17  \n",
       "2              True                              1              0.68  \n",
       "\n",
       "[3 rows x 37 columns]"
      ]
     },
     "execution_count": 52,
     "metadata": {},
     "output_type": "execute_result"
    }
   ],
   "source": [
    "dfr = df[ (df.price > df.price.quantile(0.25)) & (df.price < df.price.quantile(0.75)) ]\n",
    "print(f\"Rows: {dfr.shape[0]}\")\n",
    "print(f\"Lower Quartile: {dfr.price.min():>6.2f}\")\n",
    "print(f\"Upper Quartile: {dfr.price.max():>6.2f}\")\n",
    "dfr.head(3)"
   ]
  },
  {
   "cell_type": "markdown",
   "metadata": {},
   "source": [
    "That example contains a few things to which you need to pay attention:\n",
    "1. You'll see that, with mutiple selections, we had to put parentheses around each one -- this forces Python to...\n",
    "2. Process the `&` (bit-wise AND) that asks pandas to \"Find all the rows where condition 1 _and_ condition 2 are both `True`\". So it calculates the `True`/`False` for the left side and the `True`/`False` for the right side of the `&`, and then combines them. Look at the appendix to this notebook for more examples and options."
   ]
  },
  {
   "cell_type": "markdown",
   "metadata": {},
   "source": [
    "### Task 4.4: Deriving a New Variable\n",
    "\n",
    "Let's try calculating two derived measures of distribution for the price:\n",
    "- The z-score, given by $z = (x - \\bar{x})/\\sigma$\n",
    "- The IQR-standardised score, given by $i = (x - Q_{1})/(Q_{3} - Q_{1})$\n",
    "- The natural log of the price: $ln(x)$"
   ]
  },
  {
   "cell_type": "code",
   "execution_count": 53,
   "metadata": {},
   "outputs": [
    {
     "data": {
      "text/plain": [
       "count    8.188000e+03\n",
       "mean    -4.262318e-16\n",
       "std      1.000000e+00\n",
       "min     -7.504521e-01\n",
       "25%     -4.663668e-01\n",
       "50%     -2.081074e-01\n",
       "75%      1.792817e-01\n",
       "max      2.776139e+01\n",
       "Name: z, dtype: float64"
      ]
     },
     "execution_count": 53,
     "metadata": {},
     "output_type": "execute_result"
    }
   ],
   "source": [
    "df['z'] = (df.price - df.price.mean()) / df.price.std()\n",
    "df.z.describe()"
   ]
  },
  {
   "cell_type": "code",
   "execution_count": 54,
   "metadata": {},
   "outputs": [
    {
     "data": {
      "text/plain": [
       "count    8188.000000\n",
       "mean        0.722323\n",
       "std         1.548830\n",
       "min        -0.440000\n",
       "25%         0.000000\n",
       "50%         0.400000\n",
       "75%         1.000000\n",
       "max        43.720000\n",
       "Name: iqs, dtype: float64"
      ]
     },
     "execution_count": 54,
     "metadata": {},
     "output_type": "execute_result"
    }
   ],
   "source": [
    "df['iqs'] = (df.price - df.price.quantile(0.25))/(df.price.quantile(0.75)-df.price.quantile(0.25))\n",
    "df.iqs.describe()"
   ]
  },
  {
   "cell_type": "code",
   "execution_count": 55,
   "metadata": {},
   "outputs": [
    {
     "data": {
      "text/plain": [
       "count    8188.000000\n",
       "mean        4.326059\n",
       "std         0.690896\n",
       "min         2.484907\n",
       "25%         3.806662\n",
       "50%         4.317488\n",
       "75%         4.787492\n",
       "max         8.108924\n",
       "Name: lnprice, dtype: float64"
      ]
     },
     "execution_count": 55,
     "metadata": {},
     "output_type": "execute_result"
    }
   ],
   "source": [
    "import numpy as np\n",
    "df['lnprice'] = np.log(df.price)\n",
    "df.lnprice.describe()"
   ]
  },
  {
   "cell_type": "markdown",
   "metadata": {},
   "source": [
    "## Task 5. Quick (and Dirty) Plotting\n",
    "\n",
    "One of the first things we should do when exploring a new dataset is plot (aka graph) the data. We've left plotting until a little later in this practical so that we could see some other basic attributes of how pandas stores data. We'll look at plotting and exploratory data analyses in much more detail next week, including using packages other than pandas. \n",
    "\n",
    "For now, let's look at the basic plotting functionality pandas provides - in conjunctions with the online documentation for both [DataFrames](http://pandas.pydata.org/pandas-docs/stable/api.html#plotting) and [Series](http://pandas.pydata.org/pandas-docs/stable/api.html#api-dataframe-plotting). There are also examples of all [the different types of plots pandas can produce](http://pandas.pydata.org/pandas-docs/stable/visualization.html)."
   ]
  },
  {
   "cell_type": "markdown",
   "metadata": {},
   "source": [
    "### Important Note\n",
    "\n",
    "<div style=\"border: dotted 1px red; padding: 10px; margin: 5px; background-color: rgb(255,249,249);\"><i>Warning</i>: Mac users who are <i>not</i> using Docker will need to do certain things in a specific order at the start of any notebook in order to show maps or graphs. Please make a copy of the following code for any notebook that you create and make it the <i>first</i> code that you run in the notebook...</div>\n",
    "\n",
    "```python\n",
    "# Needed on a Mac\n",
    "import matplotlib as mpl\n",
    "mpl.use('TkAgg')\n",
    "%matplotlib inline\n",
    "import matplotlib.pyplot as plt\n",
    "```\n",
    "\n",
    "For non-Mac users it _shouldn't_ hurt if you use the above, but you _should_ be able to get away with:\n",
    "\n",
    "```python\n",
    "%matplotlib inline\n",
    "import matplotlib.pyplot as plt\n",
    "```\n",
    "\n",
    "This _should_ enable you to create plots, including in the remainder of this practical!"
   ]
  },
  {
   "cell_type": "code",
   "execution_count": 56,
   "metadata": {},
   "outputs": [],
   "source": [
    "%matplotlib inline\n",
    "import matplotlib.pyplot as plt"
   ]
  },
  {
   "cell_type": "markdown",
   "metadata": {},
   "source": [
    "### Task 5.1: Histograms\n",
    "\n",
    "First, let's see some of the ways we could visualise the distribution of the `Series` in the dataset:"
   ]
  },
  {
   "cell_type": "code",
   "execution_count": 57,
   "metadata": {},
   "outputs": [
    {
     "data": {
      "text/plain": [
       "<AxesSubplot:ylabel='Frequency'>"
      ]
     },
     "execution_count": 57,
     "metadata": {},
     "output_type": "execute_result"
    },
    {
     "data": {
      "image/png": "[encoded data removed]",
      "text/plain": [
       "<Figure size 432x288 with 1 Axes>"
      ]
     },
     "metadata": {
      "needs_background": "light"
     },
     "output_type": "display_data"
    }
   ],
   "source": [
    "df.price.plot.hist() # histogram"
   ]
  },
  {
   "cell_type": "markdown",
   "metadata": {},
   "source": [
    "If the code worked properly you should have just created a standard [histogram](http://pandas.pydata.org/pandas-docs/stable/generated/pandas.Series.plot.hist.html#pandas.Series.plot.hist) plot (if you can't see one, ask for help). \n",
    "\n",
    "You can also pass in simple options to improve the plotting:"
   ]
  },
  {
   "cell_type": "code",
   "execution_count": 58,
   "metadata": {},
   "outputs": [
    {
     "data": {
      "text/plain": [
       "<AxesSubplot:ylabel='Frequency'>"
      ]
     },
     "execution_count": 58,
     "metadata": {},
     "output_type": "execute_result"
    },
    {
     "data": {
      "image/png": "[encoded data removed]",
      "text/plain": [
       "<Figure size 432x288 with 1 Axes>"
      ]
     },
     "metadata": {
      "needs_background": "light"
     },
     "output_type": "display_data"
    }
   ],
   "source": [
    "df.price.plot.hist(bins=100) # histogram"
   ]
  },
  {
   "cell_type": "markdown",
   "metadata": {},
   "source": [
    "### Task 5.2: KDE Plots\n",
    "\n",
    "Similarly, we can produce a [Kernel Density Estimate plot](http://pandas.pydata.org/pandas-docs/stable/generated/pandas.Series.plot.kde.html#pandas.Series.plot.kde) (modifying the limits of the x-axis using `xlim`):"
   ]
  },
  {
   "cell_type": "code",
   "execution_count": 59,
   "metadata": {},
   "outputs": [
    {
     "data": {
      "text/plain": [
       "<AxesSubplot:ylabel='Density'>"
      ]
     },
     "execution_count": 59,
     "metadata": {},
     "output_type": "execute_result"
    },
    {
     "data": {
      "image/png": "[encoded data removed]",
      "text/plain": [
       "<Figure size 432x288 with 1 Axes>"
      ]
     },
     "metadata": {
      "needs_background": "light"
     },
     "output_type": "display_data"
    }
   ],
   "source": [
    "df.price.plot.kde(xlim=(0,1000)) #kernel density estimate plot"
   ]
  },
  {
   "cell_type": "markdown",
   "metadata": {},
   "source": [
    "Kind of handy, no? These aren't the _best_ looking plots, but they are all being generated on-the-fly for you by pandas with no more than a cheery `DataFrame.Series.plot.<plot type>`! Since those plots are all just method calls, many of them take optional parameters to change the colour, the notation (scientific or not), and other options. For example, many of the documentation pages linked to above are rather brief, but include a link to [the general options that can be applied to all `Series.plot`](http://pandas.pydata.org/pandas-docs/stable/generated/pandas.Series.plot.html#pandas.Series.plot) calls.\n",
    "\n",
    "This is why we like pandas: it allows us to be _constructively lazy_. We don't need to know _how_ a draw a KDE plot (though it always helps if you don't see what you expected), we just need to know that pandas provides a method that will do it for you. And _that_ is why it's always worth having a [look at the documentation](http://pandas.pydata.org/pandas-docs/stable/api.html#plotting). \n",
    "\n",
    "Generally, Jupyter is clever enough to overlay plots one on top of the other if you call them all in the same cell. We'll see ways to gain more control later, but this is still a good start!"
   ]
  },
  {
   "cell_type": "code",
   "execution_count": 60,
   "metadata": {},
   "outputs": [
    {
     "data": {
      "text/plain": [
       "<AxesSubplot:ylabel='Density'>"
      ]
     },
     "execution_count": 60,
     "metadata": {},
     "output_type": "execute_result"
    },
    {
     "data": {
      "image/png": "[encoded data removed]",
      "text/plain": [
       "<Figure size 432x288 with 1 Axes>"
      ]
     },
     "metadata": {
      "needs_background": "light"
     },
     "output_type": "display_data"
    }
   ],
   "source": [
    "df.z.plot.kde(xlim=[-2, 10])\n",
    "df.iqs.plot.kde(xlim=[-2, 10])\n",
    "df.lnprice.plot.kde()"
   ]
  },
  {
   "cell_type": "markdown",
   "metadata": {},
   "source": [
    "### Task 5.3: Boxplots\n",
    "\n",
    "A standard [boxplot](http://pandas.pydata.org/pandas-docs/stable/generated/pandas.Series.plot.box.html#pandas.Series.plot.box):"
   ]
  },
  {
   "cell_type": "code",
   "execution_count": 61,
   "metadata": {},
   "outputs": [
    {
     "data": {
      "text/plain": [
       "<AxesSubplot:>"
      ]
     },
     "execution_count": 61,
     "metadata": {},
     "output_type": "execute_result"
    },
    {
     "data": {
      "image/png": "[encoded data removed]",
      "text/plain": [
       "<Figure size 432x288 with 1 Axes>"
      ]
     },
     "metadata": {
      "needs_background": "light"
     },
     "output_type": "display_data"
    }
   ],
   "source": [
    "df.price.plot.box() # boxplot"
   ]
  },
  {
   "cell_type": "markdown",
   "metadata": {},
   "source": [
    "### Task 5.4: Scatterplots\n",
    "\n",
    "We can also plot two variables in a [scatter plot](http://pandas.pydata.org/pandas-docs/stable/generated/pandas.DataFrame.plot.scatter.html#pandas.DataFrame.plot.scatter) by applying a plot method to the `DataFrame` (not an individual `Series`):"
   ]
  },
  {
   "cell_type": "code",
   "execution_count": 78,
   "metadata": {},
   "outputs": [
    {
     "data": {
      "text/plain": [
       "<AxesSubplot:xlabel='longitude', ylabel='latitude'>"
      ]
     },
     "execution_count": 78,
     "metadata": {},
     "output_type": "execute_result"
    },
    {
     "data": {
      "image/png": "[encoded data removed]",
      "text/plain": [
       "<Figure size 1080x720 with 2 Axes>"
      ]
     },
     "metadata": {
      "needs_background": "light"
     },
     "output_type": "display_data"
    }
   ],
   "source": [
    "df.plot.scatter(x='longitude', y='latitude', c='price', s=2, cmap='viridis', figsize=(15,10))"
   ]
  },
  {
   "cell_type": "markdown",
   "metadata": {},
   "source": [
    "Note how the code above has the form `DataFrame.plot.<plot type>`, not `DataFrame.Series.plot.<plot type>` as in the prior plots. Think about why this then means we need the `x` and `y` arguments. \n",
    "\n",
    "Looking at the plot produced, it's hard to see where the high values are, so we might want to think about ways that we could make it easier to spot the big numbers... We could, for instance, also vary the size of the point in a plot by some variable:"
   ]
  },
  {
   "cell_type": "code",
   "execution_count": 62,
   "metadata": {},
   "outputs": [
    {
     "data": {
      "text/plain": [
       "<AxesSubplot:xlabel='longitude', ylabel='latitude'>"
      ]
     },
     "execution_count": 62,
     "metadata": {},
     "output_type": "execute_result"
    },
    {
     "data": {
      "image/png": "[encoded data removed]",
      "text/plain": [
       "<Figure size 1080x720 with 2 Axes>"
      ]
     },
     "metadata": {
      "needs_background": "light"
     },
     "output_type": "display_data"
    }
   ],
   "source": [
    "df.plot.scatter(x='longitude', y='latitude', c='price', s=(df.price/df.price.min()), cmap='viridis', figsize=(15,10))"
   ]
  },
  {
   "cell_type": "markdown",
   "metadata": {},
   "source": [
    "And we can plot subsets of our data without creating a new object. See if you can work out what the following code is doing that is different from the last plot:"
   ]
  },
  {
   "cell_type": "code",
   "execution_count": 63,
   "metadata": {},
   "outputs": [
    {
     "data": {
      "text/plain": [
       "<AxesSubplot:xlabel='longitude', ylabel='latitude'>"
      ]
     },
     "execution_count": 63,
     "metadata": {},
     "output_type": "execute_result"
    },
    {
     "data": {
      "image/png": "[encoded data removed]",
      "text/plain": [
       "<Figure size 432x288 with 2 Axes>"
      ]
     },
     "metadata": {
      "needs_background": "light"
     },
     "output_type": "display_data"
    }
   ],
   "source": [
    "df[df.price > df.price.quantile(0.90)].plot.scatter(x='longitude', y='latitude', c='price', cmap='viridis', s=8)"
   ]
  },
  {
   "cell_type": "markdown",
   "metadata": {},
   "source": [
    "### Task 5.5: Hex Bin Plots\n",
    "\n",
    "And pandas allows us to create 'less standard' plots, like a [hex bin plot](http://pandas.pydata.org/pandas-docs/stable/generated/pandas.DataFrame.plot.hexbin.html#pandas.DataFrame.plot.hexbin):"
   ]
  },
  {
   "cell_type": "code",
   "execution_count": 66,
   "metadata": {},
   "outputs": [
    {
     "data": {
      "text/plain": [
       "<AxesSubplot:xlabel='longitude', ylabel='latitude'>"
      ]
     },
     "execution_count": 66,
     "metadata": {},
     "output_type": "execute_result"
    },
    {
     "data": {
      "image/png": "[encoded data removed]",
      "text/plain": [
       "<Figure size 720x504 with 2 Axes>"
      ]
     },
     "metadata": {
      "needs_background": "light"
     },
     "output_type": "display_data"
    }
   ],
   "source": [
    "df.plot.hexbin(x='longitude', y='latitude', gridsize=50, figsize=(10,7))  #hex bin plot"
   ]
  },
  {
   "cell_type": "markdown",
   "metadata": {},
   "source": [
    "That's just a taste of what the basic plotting functionality of pandas can do. Feel free to explore more yourself and we'll also see [the seaborn package](http://seaborn.pydata.org/index.html) later."
   ]
  },
  {
   "cell_type": "markdown",
   "metadata": {},
   "source": [
    "## Credits!\n",
    "\n",
    "#### Contributors:\n",
    "The following individuals have contributed to these teaching materials: James Millington (james.millington@kcl.ac.uk), Jon Reades (jonathan.reades@kcl.ac.uk)\n",
    "\n",
    "#### License\n",
    "These teaching materials are licensed under a mix of [The MIT License](https://opensource.org/licenses/mit-license.php) and the [Creative Commons Attribution-NonCommercial-ShareAlike 4.0 license](https://creativecommons.org/licenses/by-nc-sa/4.0/).\n",
    "\n",
    "#### Acknowledgements:\n",
    "Supported by the [Royal Geographical Society](https://www.rgs.org/HomePage.htm) (with the Institute of British Geographers) with a Ray Y Gildea Jr Award.\n",
    "\n",
    "#### Potential Dependencies:\n",
    "This notebook may depend on the following libraries: pandas, matplotlib"
   ]
  }
 ],
 "metadata": {
  "anaconda-cloud": {},
  "kernelspec": {
   "display_name": "Python 3 (ipykernel)",
   "language": "python",
   "name": "python3"
  },
  "language_info": {
   "codemirror_mode": {
    "name": "ipython",
    "version": 3
   },
   "file_extension": ".py",
   "mimetype": "text/x-python",
   "name": "python",
   "nbconvert_exporter": "python",
   "pygments_lexer": "ipython3",
   "version": "3.9.6"
  }
 },
 "nbformat": 4,
 "nbformat_minor": 4
}
